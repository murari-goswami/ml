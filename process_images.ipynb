{
 "cells": [
  {
   "cell_type": "markdown",
   "metadata": {},
   "source": [
    "## This Notebook outlines the image retrieval and the pre-processing for Demand Forecasting's Image Similarity Module\n",
    "1. Read Image Metadata from PDNA Table\n",
    "2. Use Image Storage Location List to retrieve images\n",
    "3. Pre-process images to meet the requirements\n",
    "4. Move images to a Sagemaker accessible S3 bucket using boto3\n",
    "\n",
    "Note: Image retrieval and moving uses boto3 while all pre-processing is done using pyspark apply module"
   ]
  },
  {
   "cell_type": "code",
   "execution_count": 1,
   "metadata": {},
   "outputs": [],
   "source": [
    "%load_ext autoreload\n",
    "%autoreload 2\n",
    "\n",
    "%matplotlib inline"
   ]
  },
  {
   "cell_type": "code",
   "execution_count": 2,
   "metadata": {},
   "outputs": [],
   "source": [
    "# findspark init() before importing pyspark\n",
    "import findspark\n",
    "findspark.init()"
   ]
  },
  {
   "cell_type": "code",
   "execution_count": 3,
   "metadata": {},
   "outputs": [],
   "source": [
    "import pandas as pd\n",
    "import numpy as np\n",
    "import os\n",
    "import sys\n",
    "\n",
    "from pyspark.sql import SparkSession\n",
    "from pyspark.sql import SQLContext\n",
    "from pyspark.sql import functions as F"
   ]
  },
  {
   "cell_type": "code",
   "execution_count": 4,
   "metadata": {},
   "outputs": [],
   "source": [
    "## Adding this location to path allows us to import the functions defined there directly\n",
    "sys.path.insert(0, '../source')"
   ]
  },
  {
   "cell_type": "code",
   "execution_count": 5,
   "metadata": {},
   "outputs": [],
   "source": [
    "from spark_utils import initialize\n",
    "from spark_utils import table_display\n",
    "spark_session = initialize(\n",
    "    {\n",
    "        \"PYSPARK_PYTHON\": \"./rep-learn/bin/python\",\n",
    "        \"PYSPARK_DRIVER_PYTHON\": \"~/miniconda3/envs/rep-learn\",\n",
    "        \"spark.yarn.dist.archives\": \"../rep-learn.tar.gz#rep-learn\",\n",
    "        \"spark.yarn.appMasterEnv.PYSPARK_PYTHON\": \"./rep-learn/bin/python\"\n",
    "    }\n",
    ")"
   ]
  },
  {
   "cell_type": "code",
   "execution_count": 6,
   "metadata": {},
   "outputs": [],
   "source": [
    "sc = spark_session.sparkContext\n",
    "#sc._conf.getAll()"
   ]
  },
  {
   "cell_type": "code",
   "execution_count": 7,
   "metadata": {},
   "outputs": [],
   "source": [
    "sqlContext = SQLContext(sc)\n",
    "#histogram = sqlContext.read.csv(\"s3://das-usecases-eu-west-1-24fc/demand-forecasting/article_image_embeddings/20191009_color_histogram.csv\", header = True)"
   ]
  },
  {
   "cell_type": "markdown",
   "metadata": {},
   "source": [
    "#### Read image metadata and fetch summary statistics on number of images are present per group"
   ]
  },
  {
   "cell_type": "code",
   "execution_count": 8,
   "metadata": {},
   "outputs": [],
   "source": [
    "image_md = spark_session.sql(\"SELECT * FROM preprod_lake.mvn_image_metadata where missing_reason_key == '' AND productview LIKE '%Side Lateral%'\")"
   ]
  },
  {
   "cell_type": "code",
   "execution_count": 9,
   "metadata": {},
   "outputs": [],
   "source": [
    "article_master = spark_session.sql(\"SELECT group_article, business_unit_descr FROM mart_out.md_group_article\")"
   ]
  },
  {
   "cell_type": "code",
   "execution_count": 10,
   "metadata": {},
   "outputs": [],
   "source": [
    "image_md = image_md.join(article_master, image_md[\"articlenumber\"] == article_master[\"group_article\"], \"left_outer\")"
   ]
  },
  {
   "cell_type": "code",
   "execution_count": 11,
   "metadata": {},
   "outputs": [
    {
     "data": {
      "text/html": [
       "<div style='white-space: pre; font-family: menlo, monospace; line-height: 1.35em; font-size:13px'>+--------------------------------+-------------+------------------------------+-----------+------------------------------+-----------------------+------------------------+----------+------+-----------------------------------------------------------------------------------------------------------------------------------------------------------------------------------------------------------------------------------------------------------------------------------------------------------+------------------------+----------------+------------------------------+----------+----------+-----------------------+----------------------------------------------------------------------------------------------------------------------------------------------------+----------------------------------------------------------------------------------------------------------------------------------------------------+---------------------------------+---------------+-------------------+-------------------+-------------------+-----------+--------+------------+-------------+----------------------------------+----------------+--------------------------------+------------------+-----------+------------+-----------------------------------------------------------+-----+--------------+--------+---------------------------------------------------------------------------------+-------------------------------------------------------------------------------------------+------------------+-------------------+-------------+--------------------+\n",
       "|id                              |articlenumber|articlename                   |modelnumber|modelname                     |assetcategory          |productview             |imagestyle|brand |markets                                                                                                                                                                                                                                                                                                    |businessunit            |productdivisions|producttypes                  |agegroups |genders   |sportscategories       |sellingseasons                                                                                                                                      |marketingseasons                                                                                                                                    |assetname                        |workingnumber  |createdon          |modifiedon         |metadataupdated    |assetphases|status  |confidential|allowdownload|usage                             |scopes          |latestfileid                    |vendor            |aspectratio|mainrgbcolor|colorcombination                                           |type |contenttype   |comments|download_url_key                                                                 |destination_path_key                                                                       |missing_reason_key|processed_on_key   |group_article|business_unit_descr |\n",
       "+--------------------------------+-------------+------------------------------+-----------+------------------------------+-----------------------+------------------------+----------+------+-----------------------------------------------------------------------------------------------------------------------------------------------------------------------------------------------------------------------------------------------------------------------------------------------------------+------------------------+----------------+------------------------------+----------+----------+-----------------------+----------------------------------------------------------------------------------------------------------------------------------------------------+----------------------------------------------------------------------------------------------------------------------------------------------------+---------------------------------+---------------+-------------------+-------------------+-------------------+-----------+--------+------------+-------------+----------------------------------+----------------+--------------------------------+------------------+-----------+------------+-----------------------------------------------------------+-----+--------------+--------+---------------------------------------------------------------------------------+-------------------------------------------------------------------------------------------+------------------+-------------------+-------------+--------------------+\n",
       "|85ad5d3a05e14a4ca538a4f10087434c|AQ6030       |ch Rocket m                   |KDJ07      |ch Rocket m                   |3D - Rendering         |Side Lateral View       |Standard  |adidas|[&#x27;APAC China&#x27;, &#x27;APAC Hong Kong&#x27;, &#x27;APAC Japan&#x27;, &#x27;APAC Korea&#x27;, &#x27;APAC Taiwan&#x27;, &#x27;EM CENTRAL&#x27;, &#x27;EM EAST&#x27;, &#x27;EM NORTH&#x27;, &#x27;Market Mexico&#x27;, &#x27;North America&#x27;, &#x27;WE KEY ACCOUNT&#x27;]                                                                                                                                       |[&#x27;BU Running&#x27;]          |[&#x27;footwear&#x27;]    |[&#x27;SHOES - LOW (NON FOOTBALL)&#x27;]|[&#x27;ADULT&#x27;] |[&#x27;MALE&#x27;]  |[&#x27;RUNNING&#x27;]            |[&#x27;Fall/Winter 2016&#x27;]                                                                                                                                |[&#x27;Fall|Winter 2016&#x27;]                                                                                                                                |AQ6030_SL.tif                    |18430947       |2015-08-11T08:12:28|2016-11-14T15:07:14|2020-01-06T18:10:28|[&#x27;SMS&#x27;]    |Final   |False       |True         |[&#x27;B2B Catalogue&#x27;, &#x27;Sell in&#x27;]      |[&#x27;OUT OF SCOPE&#x27;]|6a8d00357eca4b81b69ba5570182f82b|RTT               |           |            |                                                           |Asset|Product Images|        |https://api.marvin.adidas-group.com/v1/c53/files/6a8d00357eca4b81b69ba5570182f82b|das-prod-inbound-mvn-eu-west-1-e706/prod/images/AQ6030_85ad5d3a05e14a4ca538a4f10087434c.tif|                  |2020-01-31T12:26:26|AQ6030       |BU RUNNING          |\n",
       "|9c39d2cbff5146978501a4f1008747bd|AQ6030       |ch Rocket m                   |KDJ07      |ch Rocket m                   |3D - Rendering         |Side Lateral Left View  |Standard  |adidas|[&#x27;APAC China&#x27;, &#x27;APAC Hong Kong&#x27;, &#x27;APAC Japan&#x27;, &#x27;APAC Korea&#x27;, &#x27;APAC Taiwan&#x27;, &#x27;EM CENTRAL&#x27;, &#x27;EM EAST&#x27;, &#x27;EM NORTH&#x27;, &#x27;Market Mexico&#x27;, &#x27;North America&#x27;, &#x27;WE KEY ACCOUNT&#x27;]                                                                                                                                       |[&#x27;BU Running&#x27;]          |[&#x27;footwear&#x27;]    |[&#x27;SHOES - LOW (NON FOOTBALL)&#x27;]|[&#x27;ADULT&#x27;] |[&#x27;MALE&#x27;]  |[&#x27;RUNNING&#x27;]            |[&#x27;Fall/Winter 2016&#x27;]                                                                                                                                |[&#x27;Fall|Winter 2016&#x27;]                                                                                                                                |AQ6030_SLL.tif                   |18430947       |2015-08-11T08:12:32|2016-11-14T15:07:14|2020-01-06T18:10:28|[&#x27;SMS&#x27;]    |Final   |False       |True         |[&#x27;B2B Catalogue&#x27;, &#x27;Sell in&#x27;]      |[&#x27;OUT OF SCOPE&#x27;]|c2437c01bb8d4d98b874a5570182fb6c|RTT               |           |            |                                                           |Asset|Product Images|        |https://api.marvin.adidas-group.com/v1/c53/files/c2437c01bb8d4d98b874a5570182fb6c|das-prod-inbound-mvn-eu-west-1-e706/prod/images/AQ6030_9c39d2cbff5146978501a4f1008747bd.tif|                  |2020-01-31T12:26:26|AQ6030       |BU RUNNING          |\n",
       "|e2d94304ff9242cfa4bfa64301161774|AQ6030       |ch Rocket m                   |KDJ07      |ch Rocket m                   |Photography            |Side Lateral View       |Standard  |adidas|[&#x27;APAC China&#x27;, &#x27;APAC Hong Kong&#x27;, &#x27;APAC Japan&#x27;, &#x27;APAC Korea&#x27;, &#x27;APAC Taiwan&#x27;, &#x27;EM CENTRAL&#x27;, &#x27;EM EAST&#x27;, &#x27;EM NORTH&#x27;, &#x27;Market Mexico&#x27;, &#x27;North America&#x27;, &#x27;WE KEY ACCOUNT&#x27;]                                                                                                                                       |[&#x27;BU Running&#x27;]          |[&#x27;footwear&#x27;]    |[&#x27;SHOES - LOW (NON FOOTBALL)&#x27;]|[&#x27;ADULT&#x27;] |[&#x27;MALE&#x27;]  |[&#x27;RUNNING&#x27;]            |[&#x27;Fall/Winter 2016&#x27;]                                                                                                                                |[&#x27;Fall|Winter 2016&#x27;]                                                                                                                                |AQ6030_SL_eCom.tif               |18430947       |2016-07-14T16:52:30|2017-11-01T21:15:33|2020-01-06T18:10:28|[&#x27;SMS&#x27;]    |Final   |False       |True         |[&#x27;eCommerce&#x27;]                     |[&#x27;OUT OF SCOPE&#x27;]|6165e8653dd64433ac9aa8100029e32e|Nureg             |           |            |core black/core black/Utility Black F16                    |Asset|Product Images|        |https://api.marvin.adidas-group.com/v1/c53/files/6165e8653dd64433ac9aa8100029e32e|das-prod-inbound-mvn-eu-west-1-e706/prod/images/AQ6030_e2d94304ff9242cfa4bfa64301161774.tif|                  |2020-01-31T12:26:26|AQ6030       |BU RUNNING          |\n",
       "|efed2e9a7842447eb032a647008064e8|AQ6030       |ch Rocket m                   |KDJ07      |ch Rocket m                   |Photography            |Left Side Lateral View  |Standard  |adidas|[&#x27;APAC China&#x27;, &#x27;APAC Hong Kong&#x27;, &#x27;APAC Japan&#x27;, &#x27;APAC Korea&#x27;, &#x27;APAC Taiwan&#x27;, &#x27;EM CENTRAL&#x27;, &#x27;EM EAST&#x27;, &#x27;EM NORTH&#x27;, &#x27;Market Mexico&#x27;, &#x27;North America&#x27;, &#x27;WE KEY ACCOUNT&#x27;]                                                                                                                                       |[&#x27;BU Running&#x27;]          |[&#x27;footwear&#x27;]    |[&#x27;SHOES - LOW (NON FOOTBALL)&#x27;]|[&#x27;ADULT&#x27;] |[&#x27;MALE&#x27;]  |[&#x27;RUNNING&#x27;]            |[&#x27;Fall/Winter 2016&#x27;]                                                                                                                                |[&#x27;Fall|Winter 2016&#x27;]                                                                                                                                |AQ6030_LSL_eCom.tif              |18430947       |2016-07-18T07:47:28|2016-11-14T15:07:17|2020-01-06T18:10:28|[&#x27;SMS&#x27;]    |Final   |False       |True         |[&#x27;eCommerce&#x27;]                     |[&#x27;OUT OF SCOPE&#x27;]|22c3483b08fa4135a454a6470080916f|Nureg             |           |            |core black/core black/Utility Black F16                    |Asset|Product Images|        |https://api.marvin.adidas-group.com/v1/c53/files/22c3483b08fa4135a454a6470080916f|das-prod-inbound-mvn-eu-west-1-e706/prod/images/AQ6030_efed2e9a7842447eb032a647008064e8.tif|                  |2020-01-31T12:26:26|AQ6030       |BU RUNNING          |\n",
       "|a5b6c6ae32e24339ab12a6c800b04205|S98151       |6P CAP COTTON                 |BXA88      |6P CAP COTTON                 |Photography            |Front Side Lateral View |Standard  |adidas|[&#x27;APAC China&#x27;, &#x27;APAC Hong Kong&#x27;, &#x27;APAC Japan&#x27;, &#x27;APAC Korea&#x27;, &#x27;APAC SEA&#x27;, &#x27;APAC Taiwan&#x27;, &#x27;CIS&#x27;, &#x27;Cluster Russian Federation&#x27;, &#x27;EM CENTRAL&#x27;, &#x27;EM EAST&#x27;, &#x27;EM NORTH&#x27;, &#x27;EM SOUTH&#x27;, &#x27;Emerging Markets&#x27;, &#x27;Global SPOMA&#x27;, &#x27;Greater China&#x27;, &#x27;Market Mexico&#x27;, &#x27;North America&#x27;, &#x27;WE KEY ACCOUNT&#x27;, &#x27;WE RETL&#x27;, &#x27;WE WHS&#x27;]|[&#x27;BU Accessories&#x27;]      |[&#x27;HARDWARE&#x27;]    |[&#x27;CAP&#x27;]                       |[&#x27;ADULT&#x27;] |[&#x27;Unisex&#x27;]|[&#x27;NOT SPORTS SPECIFIC&#x27;]|[&#x27;Fall/Winter 2017&#x27;, &#x27;Fall/Winter 2018&#x27;, &#x27;Fall/Winter 2019&#x27;, &#x27;Spring/Summer 2017&#x27;, &#x27;Spring/Summer 2018&#x27;, &#x27;Spring/Summer 2019&#x27;, &#x27;Spring/Summer 2020&#x27;]|[&#x27;Fall|Winter 2017&#x27;, &#x27;Fall|Winter 2018&#x27;, &#x27;Fall|Winter 2019&#x27;, &#x27;Spring|Summer 2017&#x27;, &#x27;Spring|Summer 2018&#x27;, &#x27;Spring|Summer 2019&#x27;, &#x27;Spring|Summer 2020&#x27;]|S98151_FSL_eCom.tif              |S1715CA1004U   |2016-11-24T10:41:44|2017-11-01T21:38:40|2020-01-21T12:00:45|           |Final   |False       |True         |[&#x27;eCommerce&#x27;]                     |[&#x27;PHOTO&#x27;]       |30631361b1a64850a4c4a80200d5044a|Wiethe            |           |            |                                                           |Asset|Product Images|        |https://api.marvin.adidas-group.com/v1/c53/files/30631361b1a64850a4c4a80200d5044a|das-prod-inbound-mvn-eu-west-1-e706/prod/images/S98151_a5b6c6ae32e24339ab12a6c800b04205.tif|                  |2020-02-05T12:46:27|S98151       |BU ACCESSORIES      |\n",
       "|a846eb9741b0405cb858a756000a5001|CI0067       |Original EQT National Backpack|CWR41      |Original EQT National Backpack|Photography            |Front Side Lateral View |Standard  |adidas|[&#x27;North America&#x27;]                                                                                                                                                                                                                                                                                          |[&#x27;BU ORIGINALS APP|ACC&#x27;]|[&#x27;HARDWARE&#x27;]    |[&#x27;BACKPACK&#x27;]                  |[&#x27;ADULT&#x27;] |[&#x27;Unisex&#x27;]|[&#x27;SPORT STYLE&#x27;]        |[&#x27;Fall/Winter 2017&#x27;]                                                                                                                                |[&#x27;Fall|Winter 2017&#x27;]                                                                                                                                |CI0067_FSL_eCom.tif              |               |2017-04-15T00:37:32|2017-04-15T00:41:09|2020-01-13T18:23:48|           |Final   |False       |True         |[&#x27;eCommerce&#x27;]                     |                |ca5a2841a6094adeacefa756000af55b|Straub US         |           |            |                                                           |Asset|Product Images|        |https://api.marvin.adidas-group.com/v1/c53/files/ca5a2841a6094adeacefa756000af55b|das-prod-inbound-mvn-eu-west-1-e706/prod/images/CI0067_a846eb9741b0405cb858a756000a5001.tif|                  |2020-02-02T09:36:04|CI0067       |BU ORIGINALS APP/ACC|\n",
       "|010e8d323a14469ba08aaa5301199048|DZ6815       |BUMBAG                        |FYF62      |BUMBAG                        |Photography            |Front Side Lateral View |Standard  |adidas|[&#x27;APAC China&#x27;, &#x27;APAC Hong Kong&#x27;, &#x27;APAC Japan&#x27;, &#x27;APAC Korea&#x27;, &#x27;APAC Taiwan&#x27;, &#x27;CIS&#x27;, &#x27;Global SPOMA&#x27;, &#x27;Greater China&#x27;, &#x27;North America&#x27;, &#x27;WE KEY ACCOUNT&#x27;, &#x27;WE RETL&#x27;, &#x27;WE WHS&#x27;]                                                                                                                                |[&#x27;BU STELLA&#x27;]           |[&#x27;HARDWARE&#x27;]    |[&#x27;OTHER BAG&#x27;]                 |[&#x27;ADULT&#x27;] |[&#x27;FEMALE&#x27;]|[&#x27;TRAINING&#x27;]           |[&#x27;Fall/Winter 2019&#x27;]                                                                                                                                |[&#x27;Fall|Winter 2019&#x27;]                                                                                                                                |DZ6815_FSL_eCom.tif              |F19SMCACCBA07  |2019-05-20T17:05:08|2019-05-20T17:06:51|2020-01-08T02:03:38|           |Final   |False       |True         |[&#x27;eCommerce&#x27;]                     |[&#x27;OUT OF SCOPE&#x27;]|1ba597d4d8084e039c43aa530119d5ea|Wiethe            |           |            |                                                           |Asset|Product Images|        |https://api.marvin.adidas-group.com/v1/c53/files/1ba597d4d8084e039c43aa530119d5ea|das-prod-inbound-mvn-eu-west-1-e706/prod/images/DZ6815_010e8d323a14469ba08aaa5301199048.tif|                  |2020-02-05T12:46:27|DZ6815       |BU STELLA           |\n",
       "|2a9e9e76fb3d497f99b5a7a001246090|CY9950       |OUTDOOR BACKPAC               |FAH88      |OUTDOOR BACKPAC               |Photography            |Front Side Lateral View |Standard  |adidas|[&#x27;APAC Japan&#x27;, &#x27;APAC SEA&#x27;, &#x27;CIS&#x27;, &#x27;EM CENTRAL&#x27;, &#x27;Emerging Markets&#x27;, &#x27;Market Mexico&#x27;, &#x27;North America&#x27;, &#x27;WE KEY ACCOUNT&#x27;, &#x27;WE RETL&#x27;, &#x27;WE WHS&#x27;]                                                                                                                                                               |[&#x27;BU ORIGINALS APP|ACC&#x27;]|[&#x27;HARDWARE&#x27;]    |[&#x27;BACKPACK&#x27;]                  |[&#x27;ADULT&#x27;] |[&#x27;Unisex&#x27;]|[&#x27;ORIGINALS&#x27;]          |[&#x27;Fall/Winter 2017&#x27;, &#x27;Fall/Winter 2018&#x27;, &#x27;Spring/Summer 2018&#x27;]                                                                                      |[&#x27;Fall|Winter 2017&#x27;, &#x27;Fall|Winter 2018&#x27;, &#x27;Spring|Summer 2018&#x27;]                                                                                      |CY9950_FSL_eCom.tif              |ISC174OA001    |2017-06-28T17:44:30|2019-03-22T21:13:47|2020-02-04T04:20:02|           |Final   |False       |True         |[&#x27;eCommerce&#x27;]                     |[&#x27;OUT OF SCOPE&#x27;]|a5e53aa0e2c84270988aa7a00124b9b2|Wiethe            |           |            |                                                           |Asset|Product Images|        |https://api.marvin.adidas-group.com/v1/c53/files/a5e53aa0e2c84270988aa7a00124b9b2|das-prod-inbound-mvn-eu-west-1-e706/prod/images/CY9950_2a9e9e76fb3d497f99b5a7a001246090.tif|                  |2020-02-08T13:00:19|CY9950       |BU ORIGINALS APP/ACC|\n",
       "|f52091264e1f4ab99df8ab1001080db9|FJ9262       |CLAS BP 3S POCK               |FTB44      |CLAS BP 3S POCK               |Photography            |Front Side Lateral View |Standard  |adidas|[&#x27;APAC China&#x27;, &#x27;APAC Hong Kong&#x27;, &#x27;APAC Japan&#x27;, &#x27;APAC Korea&#x27;, &#x27;APAC SEA&#x27;, &#x27;APAC Taiwan&#x27;, &#x27;Cluster Russian Federation&#x27;, &#x27;EM CENTRAL&#x27;, &#x27;EM EAST&#x27;, &#x27;EM NORTH&#x27;, &#x27;EM SOUTH&#x27;, &#x27;Market Mexico&#x27;, &#x27;WE KEY ACCOUNT&#x27;, &#x27;WE RETL&#x27;, &#x27;WE WHS&#x27;]                                                                             |[&#x27;BU Accessories&#x27;]      |[&#x27;HARDWARE&#x27;]    |[&#x27;BACKPACK&#x27;]                  |[&#x27;ADULT&#x27;] |[&#x27;Unisex&#x27;]|[&#x27;NOT SPORTS SPECIFIC&#x27;]|[&#x27;Fall/Winter 2020&#x27;, &#x27;Spring/Summer 2020&#x27;]                                                                                                          |[&#x27;Fall|Winter 2020&#x27;, &#x27;Spring|Summer 2020&#x27;]                                                                                                          |FJ9262_FSL_eCom.tif              |S1915BA1411U   |2019-11-25T16:01:23|2019-11-25T16:03:23|2020-02-10T09:15:12|           |Final   |False       |True         |[&#x27;eCommerce&#x27;]                     |[&#x27;OUT OF SCOPE&#x27;]|41451473015041069a25ab10010862cb|Wiethe            |           |            |                                                           |Asset|Product Images|        |https://api.marvin.adidas-group.com/v1/c53/files/41451473015041069a25ab10010862cb|das-prod-inbound-mvn-eu-west-1-e706/prod/images/FJ9262_f52091264e1f4ab99df8ab1001080db9.tif|                  |2020-02-10T10:17:35|FJ9262       |null                |\n",
       "|940ef7b7ee9a4d02bd58a74600798377|CE1371       |OPS BP 20L S                  |MKS65      |OPS BP 20L S                  |Photography            |Front Side Lateral View |Standard  |adidas|[&#x27;APAC Hong Kong&#x27;, &#x27;APAC Japan&#x27;, &#x27;APAC Taiwan&#x27;, &#x27;Global SPOMA&#x27;]                                                                                                                                                                                                                                            |[&#x27;BU Accessories&#x27;]      |[&#x27;HARDWARE&#x27;]    |[&#x27;BACKPACK&#x27;]                  |[&#x27;ADULT&#x27;] |[&#x27;Unisex&#x27;]|[&#x27;TRAINING&#x27;]           |[&#x27;Fall/Winter 2017&#x27;]                                                                                                                                |[&#x27;Fall|Winter 2017&#x27;]                                                                                                                                |CE1371_FSL_eCom.tif              |JS1715BA0012U  |2017-03-30T07:22:25|2017-03-30T07:24:18|2020-01-21T12:11:18|           |Final   |False       |True         |[&#x27;eCommerce&#x27;]                     |[&#x27;PHOTO&#x27;]       |ed0ed527f0004e9888e1a7460079fdb4|Straub HK         |           |            |                                                           |Asset|Product Images|        |https://api.marvin.adidas-group.com/v1/c53/files/ed0ed527f0004e9888e1a7460079fdb4|das-prod-inbound-mvn-eu-west-1-e706/prod/images/CE1371_940ef7b7ee9a4d02bd58a74600798377.tif|                  |2020-02-02T09:36:04|CE1371       |BU ACCESSORIES      |\n",
       "|31cc107ea99042d0830aaae6014632fe|GI8454       |PERF SLOUCH                   |JKL83      |PERF SLOUCH                   |Photography - eCommerce|Front Side Lateral View |Standard  |adidas|[&#x27;US Team Services&#x27;]                                                                                                                                                                                                                                                                                       |[&#x27;BU Accessories&#x27;]      |[&#x27;HARDWARE&#x27;]    |[&#x27;CAP&#x27;]                       |[&#x27;ADULT&#x27;] |[&#x27;MALE&#x27;]  |[&#x27;NOT SPORTS SPECIFIC&#x27;]|[&#x27;Fall/Winter 2019&#x27;]                                                                                                                                |[&#x27;Fall|Winter 2019&#x27;]                                                                                                                                |GI8454_FSL_eCom.tif              |F19104147H1PHLY|2019-10-14T19:47:39|2019-10-14T19:47:41|2020-01-21T12:58:32|           |Final   |False       |True         |[&#x27;eCommerceLocal&#x27;]                |[&#x27;OUT OF SCOPE&#x27;]|394744c9b37f44a3906faae601463584|Local Image Ingest|           |            |                                                           |Asset|Product Images|        |https://api.marvin.adidas-group.com/v1/c53/files/394744c9b37f44a3906faae601463584|das-prod-inbound-mvn-eu-west-1-e706/prod/images/GI8454_31cc107ea99042d0830aaae6014632fe.tif|                  |2020-02-05T12:46:28|GI8454       |BU ACCESSORIES      |\n",
       "|90b53e1ba47043b78769aae6015042d2|GI8454       |PERF SLOUCH                   |JKL83      |PERF SLOUCH                   |Photography - eCommerce|Front Side Lateral View |3D Torso  |adidas|[&#x27;US Team Services&#x27;]                                                                                                                                                                                                                                                                                       |[&#x27;BU Accessories&#x27;]      |[&#x27;HARDWARE&#x27;]    |[&#x27;CAP&#x27;]                       |[&#x27;ADULT&#x27;] |[&#x27;MALE&#x27;]  |[&#x27;NOT SPORTS SPECIFIC&#x27;]|[&#x27;Fall/Winter 2019&#x27;]                                                                                                                                |[&#x27;Fall|Winter 2019&#x27;]                                                                                                                                |GI8454_FSL_eCom.tif              |F19104147H1PHLY|2019-10-14T20:24:17|2019-10-16T16:20:06|2020-01-21T12:56:33|           |Final   |False       |True         |[&#x27;eCommerceLocal&#x27;]                |[&#x27;OUT OF SCOPE&#x27;]|cd784b4d474a4fe68f42aae8010d31d4|adidas            |           |            |                                                           |Asset|Product Images|        |https://api.marvin.adidas-group.com/v1/c53/files/cd784b4d474a4fe68f42aae8010d31d4|das-prod-inbound-mvn-eu-west-1-e706/prod/images/GI8454_90b53e1ba47043b78769aae6015042d2.tif|                  |2020-02-05T12:46:28|GI8454       |BU ACCESSORIES      |\n",
       "|d02a0e18566e453da455a6cc01313646|BQ1025       |YOGA BAG                      |NEN62      |YOGA BAG                      |Photography            |Front Side Lateral View |Standard  |adidas|[&#x27;APAC China&#x27;, &#x27;APAC Japan&#x27;, &#x27;APAC Korea&#x27;, &#x27;CIS&#x27;, &#x27;EM CENTRAL&#x27;, &#x27;Emerging Markets&#x27;, &#x27;Global SPOMA&#x27;, &#x27;Greater China&#x27;, &#x27;North America&#x27;, &#x27;WE KEY ACCOUNT&#x27;, &#x27;WE RETL&#x27;, &#x27;WE WHS&#x27;]                                                                                                                               |[&#x27;BU STELLA&#x27;]           |[&#x27;HARDWARE&#x27;]    |[&#x27;OTHER BAG&#x27;]                 |[&#x27;ADULT&#x27;] |[&#x27;FEMALE&#x27;]|[&#x27;YOGA&#x27;]               |[&#x27;Spring/Summer 2017&#x27;]                                                                                                                              |[&#x27;Spring|Summer 2017&#x27;]                                                                                                                              |BQ1025_FSL_eCom.tif              |S17SMCACCBA10  |2016-11-28T18:31:14|2016-11-28T18:36:08|2020-01-08T12:05:11|           |Final   |False       |True         |[&#x27;eCommerce&#x27;]                     |[&#x27;OUT OF SCOPE&#x27;]|dff0668f7c444812abe2a6cc0132517d|Wiethe            |           |            |                                                           |Asset|Product Images|        |https://api.marvin.adidas-group.com/v1/c53/files/dff0668f7c444812abe2a6cc0132517d|das-prod-inbound-mvn-eu-west-1-e706/prod/images/BQ1025_d02a0e18566e453da455a6cc01313646.tif|                  |2020-02-02T09:36:04|BQ1025       |null                |\n",
       "|9a31c6053cbf4a46a03fa6d500ceda7a|CQ1680       |RapidaFlex 2 Cool EL I        |EFV14      |RapidaFlex 2 Cool EL I        |Design Sketch          |Side Lateral Left View  |Standard  |adidas|[&#x27;APAC China&#x27;, &#x27;APAC Hong Kong&#x27;, &#x27;APAC SEA&#x27;, &#x27;APAC Taiwan&#x27;, &#x27;CIS&#x27;, &#x27;Cluster Russian Federation&#x27;, &#x27;EM CENTRAL&#x27;, &#x27;Greater China&#x27;]                                                                                                                                                                            |[&#x27;BU YOUNG ATHLETES&#x27;]   |[&#x27;footwear&#x27;]    |[&#x27;SHOES - LOW (NON FOOTBALL)&#x27;]|[&#x27;INFANT&#x27;]|[&#x27;Unisex&#x27;]|[&#x27;TRAINING&#x27;]           |[&#x27;Fall/Winter 2019&#x27;, &#x27;Spring/Summer 2018&#x27;, &#x27;Spring/Summer 2020&#x27;]                                                                                    |[&#x27;Fall|Winter 2019&#x27;, &#x27;Spring|Summer 2018&#x27;, &#x27;Spring|Summer 2020&#x27;]                                                                                    |CQ1680_Side Lateral Left View.tif|22457773       |2016-12-07T12:33:07|2017-02-28T16:21:38|2020-02-06T08:05:40|[&#x27;SMS&#x27;]    |Released|False       |True         |[&#x27;B2B Catalogue&#x27;, &#x27;Sell in&#x27;]      |[&#x27;3D SCOPE&#x27;]    |ba590b90fbf747518edfa71b00e3f1b1|adidas            |           |D3C3D9      |AERO PINK S18 AAFJ / FTWR WHITE 01F7 / VIVID BERRY S14 A6WJ|Asset|Product Images|        |https://api.marvin.adidas-group.com/v1/c53/files/ba590b90fbf747518edfa71b00e3f1b1|das-prod-inbound-mvn-eu-west-1-e706/prod/images/CQ1680_9a31c6053cbf4a46a03fa6d500ceda7a.tif|                  |2020-02-10T10:17:35|CQ1680       |null                |\n",
       "|9d18c83197a54111ab7da886010d5dd8|CQ1680       |RapidaFlex 2 Cool EL I        |EFV14      |RapidaFlex 2 Cool EL I        |Photography            |Side Lateral View       |Standard  |adidas|[&#x27;APAC China&#x27;, &#x27;APAC Hong Kong&#x27;, &#x27;APAC SEA&#x27;, &#x27;APAC Taiwan&#x27;, &#x27;CIS&#x27;, &#x27;Cluster Russian Federation&#x27;, &#x27;EM CENTRAL&#x27;, &#x27;Greater China&#x27;]                                                                                                                                                                            |[&#x27;BU YOUNG ATHLETES&#x27;]   |[&#x27;footwear&#x27;]    |[&#x27;SHOES - LOW (NON FOOTBALL)&#x27;]|[&#x27;INFANT&#x27;]|[&#x27;Unisex&#x27;]|[&#x27;TRAINING&#x27;]           |[&#x27;Fall/Winter 2019&#x27;, &#x27;Spring/Summer 2018&#x27;, &#x27;Spring/Summer 2020&#x27;]                                                                                    |[&#x27;Fall|Winter 2019&#x27;, &#x27;Spring|Summer 2018&#x27;, &#x27;Spring|Summer 2020&#x27;]                                                                                    |CQ1680_SL_eCom.tif               |22457773       |2018-02-13T16:20:44|2018-02-13T16:23:35|2020-02-06T08:11:51|[&#x27;SMS&#x27;]    |Final   |False       |True         |[&#x27;eCommerce&#x27;]                     |[&#x27;3D SCOPE&#x27;]    |9b91e5e00eaf409bbbf7a886010e26c0|Nureg             |           |            |aero pink s18/ftwr white/Vivid Berry S14                   |Asset|Product Images|        |https://api.marvin.adidas-group.com/v1/c53/files/9b91e5e00eaf409bbbf7a886010e26c0|das-prod-inbound-mvn-eu-west-1-e706/prod/images/CQ1680_9d18c83197a54111ab7da886010d5dd8.tif|                  |2020-02-10T10:17:35|CQ1680       |null                |\n",
       "|9d372d3a29774219a88aa737008d1429|CQ1680       |RapidaFlex 2 Cool EL I        |EFV14      |RapidaFlex 2 Cool EL I        |Photography            |Side Lateral View       |Standard  |adidas|[&#x27;APAC China&#x27;, &#x27;APAC Hong Kong&#x27;, &#x27;APAC SEA&#x27;, &#x27;APAC Taiwan&#x27;, &#x27;CIS&#x27;, &#x27;Cluster Russian Federation&#x27;, &#x27;EM CENTRAL&#x27;, &#x27;Greater China&#x27;]                                                                                                                                                                            |[&#x27;BU YOUNG ATHLETES&#x27;]   |[&#x27;footwear&#x27;]    |[&#x27;SHOES - LOW (NON FOOTBALL)&#x27;]|[&#x27;INFANT&#x27;]|[&#x27;Unisex&#x27;]|[&#x27;TRAINING&#x27;]           |[&#x27;Fall/Winter 2019&#x27;, &#x27;Spring/Summer 2018&#x27;, &#x27;Spring/Summer 2020&#x27;]                                                                                    |[&#x27;Fall|Winter 2019&#x27;, &#x27;Spring|Summer 2018&#x27;, &#x27;Spring|Summer 2020&#x27;]                                                                                    |CQ1680_SL_B2CCat.tif             |22457773       |2017-03-15T08:33:39|2017-12-06T08:16:21|2020-02-06T08:08:09|[&#x27;SMS&#x27;]    |Final   |False       |True         |[&#x27;B2B Catalogue&#x27;, &#x27;B2C Catalogue&#x27;]|[&#x27;3D SCOPE&#x27;]    |ef928f3876fc4910a9fca841008853f7|Nureg             |           |            |aero pink s18/ftwr white/Vivid Berry S14                   |Asset|Product Images|        |https://api.marvin.adidas-group.com/v1/c53/files/ef928f3876fc4910a9fca841008853f7|das-prod-inbound-mvn-eu-west-1-e706/prod/images/CQ1680_9d372d3a29774219a88aa737008d1429.tif|                  |2020-02-10T10:17:35|CQ1680       |null                |\n",
       "|a7f93d78d0954a7b9f02a886010cf635|CQ1680       |RapidaFlex 2 Cool EL I        |EFV14      |RapidaFlex 2 Cool EL I        |Photography            |Side Lateral Center View|Standard  |adidas|[&#x27;APAC China&#x27;, &#x27;APAC Hong Kong&#x27;, &#x27;APAC SEA&#x27;, &#x27;APAC Taiwan&#x27;, &#x27;CIS&#x27;, &#x27;Cluster Russian Federation&#x27;, &#x27;EM CENTRAL&#x27;, &#x27;Greater China&#x27;]                                                                                                                                                                            |[&#x27;BU YOUNG ATHLETES&#x27;]   |[&#x27;footwear&#x27;]    |[&#x27;SHOES - LOW (NON FOOTBALL)&#x27;]|[&#x27;INFANT&#x27;]|[&#x27;Unisex&#x27;]|[&#x27;TRAINING&#x27;]           |[&#x27;Fall/Winter 2019&#x27;, &#x27;Spring/Summer 2018&#x27;, &#x27;Spring/Summer 2020&#x27;]                                                                                    |[&#x27;Fall|Winter 2019&#x27;, &#x27;Spring|Summer 2018&#x27;, &#x27;Spring|Summer 2020&#x27;]                                                                                    |CQ1680_SLC_eCom.tif              |22457773       |2018-02-13T16:19:15|2018-02-13T16:21:20|2020-02-06T08:11:47|[&#x27;SMS&#x27;]    |Final   |False       |True         |[&#x27;eCommerce&#x27;]                     |[&#x27;3D SCOPE&#x27;]    |56546a7034924e09ac8ba886010d881b|Nureg             |           |            |aero pink s18/ftwr white/Vivid Berry S14                   |Asset|Product Images|        |https://api.marvin.adidas-group.com/v1/c53/files/56546a7034924e09ac8ba886010d881b|das-prod-inbound-mvn-eu-west-1-e706/prod/images/CQ1680_a7f93d78d0954a7b9f02a886010cf635.tif|                  |2020-02-10T10:17:35|CQ1680       |null                |\n",
       "|b278e7c6cdb343c0a550a70100b8bd59|CQ1680       |RapidaFlex 2 Cool EL I        |EFV14      |RapidaFlex 2 Cool EL I        |3D - Rendering         |Side Lateral View       |Standard  |adidas|[&#x27;APAC China&#x27;, &#x27;APAC Hong Kong&#x27;, &#x27;APAC SEA&#x27;, &#x27;APAC Taiwan&#x27;, &#x27;CIS&#x27;, &#x27;Cluster Russian Federation&#x27;, &#x27;EM CENTRAL&#x27;, &#x27;Greater China&#x27;]                                                                                                                                                                            |[&#x27;BU YOUNG ATHLETES&#x27;]   |[&#x27;footwear&#x27;]    |[&#x27;SHOES - LOW (NON FOOTBALL)&#x27;]|[&#x27;INFANT&#x27;]|[&#x27;Unisex&#x27;]|[&#x27;TRAINING&#x27;]           |[&#x27;Fall/Winter 2019&#x27;, &#x27;Spring/Summer 2018&#x27;, &#x27;Spring/Summer 2020&#x27;]                                                                                    |[&#x27;Fall|Winter 2019&#x27;, &#x27;Spring|Summer 2018&#x27;, &#x27;Spring|Summer 2020&#x27;]                                                                                    |CQ1680_SL.tif                    |22457773       |2017-01-20T11:12:36|2017-04-27T01:31:16|2020-02-06T08:08:02|[&#x27;SMS&#x27;]    |Final   |False       |True         |[&#x27;B2B Catalogue&#x27;, &#x27;Sell in&#x27;]      |[&#x27;3D SCOPE&#x27;]    |3ddea83a841e4391a648a75c015caa6c|RTT               |           |            |                                                           |Asset|Product Images|        |https://api.marvin.adidas-group.com/v1/c53/files/3ddea83a841e4391a648a75c015caa6c|das-prod-inbound-mvn-eu-west-1-e706/prod/images/CQ1680_b278e7c6cdb343c0a550a70100b8bd59.tif|                  |2020-02-10T10:17:35|CQ1680       |null                |\n",
       "|d124354b91384d9ea7faa70100b8c5b8|CQ1680       |RapidaFlex 2 Cool EL I        |EFV14      |RapidaFlex 2 Cool EL I        |3D - Rendering         |Side Lateral Left View  |Standard  |adidas|[&#x27;APAC China&#x27;, &#x27;APAC Hong Kong&#x27;, &#x27;APAC SEA&#x27;, &#x27;APAC Taiwan&#x27;, &#x27;CIS&#x27;, &#x27;Cluster Russian Federation&#x27;, &#x27;EM CENTRAL&#x27;, &#x27;Greater China&#x27;]                                                                                                                                                                            |[&#x27;BU YOUNG ATHLETES&#x27;]   |[&#x27;footwear&#x27;]    |[&#x27;SHOES - LOW (NON FOOTBALL)&#x27;]|[&#x27;INFANT&#x27;]|[&#x27;Unisex&#x27;]|[&#x27;TRAINING&#x27;]           |[&#x27;Fall/Winter 2019&#x27;, &#x27;Spring/Summer 2018&#x27;, &#x27;Spring/Summer 2020&#x27;]                                                                                    |[&#x27;Fall|Winter 2019&#x27;, &#x27;Spring|Summer 2018&#x27;, &#x27;Spring|Summer 2020&#x27;]                                                                                    |CQ1680_SLL.tif                   |22457773       |2017-01-20T11:12:44|2017-04-27T01:31:16|2020-02-06T08:08:03|[&#x27;SMS&#x27;]    |Final   |False       |True         |[&#x27;B2B Catalogue&#x27;, &#x27;Sell in&#x27;]      |[&#x27;3D SCOPE&#x27;]    |1c111eb8bdfd45be9c1ba75c015cafaf|RTT               |           |            |                                                           |Asset|Product Images|        |https://api.marvin.adidas-group.com/v1/c53/files/1c111eb8bdfd45be9c1ba75c015cafaf|das-prod-inbound-mvn-eu-west-1-e706/prod/images/CQ1680_d124354b91384d9ea7faa70100b8c5b8.tif|                  |2020-02-10T10:17:35|CQ1680       |null                |\n",
       "|39ea02a3ade74f65b2e2a9a80105c464|DU6799       |SAMSTAG ARC CAP               |FUA46      |SAMSTAG ARC CAP               |Photography            |Front Side Lateral View |Standard  |adidas|[&#x27;APAC China&#x27;, &#x27;APAC Japan&#x27;, &#x27;APAC Korea&#x27;, &#x27;APAC Taiwan&#x27;, &#x27;CIS&#x27;, &#x27;Global SPOMA&#x27;, &#x27;Greater China&#x27;, &#x27;Market Mexico&#x27;, &#x27;North America&#x27;, &#x27;WE KEY ACCOUNT&#x27;, &#x27;WE RETL&#x27;, &#x27;WE WHS&#x27;]                                                                                                                                 |[&#x27;BU ORIGINALS APP|ACC&#x27;]|[&#x27;HARDWARE&#x27;]    |[&#x27;CAP&#x27;]                       |[&#x27;ADULT&#x27;] |[&#x27;Unisex&#x27;]|[&#x27;ORIGINALS&#x27;]          |[&#x27;Spring/Summer 2019&#x27;]                                                                                                                              |[&#x27;Spring|Summer 2019&#x27;]                                                                                                                              |DU6799_FSL_eCom.tif              |S19AOCA901     |2018-11-30T15:53:03|2019-03-28T12:53:01|2020-02-04T05:06:33|           |Final   |False       |True         |[&#x27;eCommerce&#x27;]                     |[&#x27;PHOTO&#x27;]       |6998d8675b154290a3f6aa1e00d45049|Wiethe            |           |            |                                                           |Asset|Product Images|        |https://api.marvin.adidas-group.com/v1/c53/files/6998d8675b154290a3f6aa1e00d45049|das-prod-inbound-mvn-eu-west-1-e706/prod/images/DU6799_39ea02a3ade74f65b2e2a9a80105c464.tif|                  |2020-02-08T13:00:20|DU6799       |BU ORIGINALS APP/ACC|\n",
       "+--------------------------------+-------------+------------------------------+-----------+------------------------------+-----------------------+------------------------+----------+------+-----------------------------------------------------------------------------------------------------------------------------------------------------------------------------------------------------------------------------------------------------------------------------------------------------------+------------------------+----------------+------------------------------+----------+----------+-----------------------+----------------------------------------------------------------------------------------------------------------------------------------------------+----------------------------------------------------------------------------------------------------------------------------------------------------+---------------------------------+---------------+-------------------+-------------------+-------------------+-----------+--------+------------+-------------+----------------------------------+----------------+--------------------------------+------------------+-----------+------------+-----------------------------------------------------------+-----+--------------+--------+---------------------------------------------------------------------------------+-------------------------------------------------------------------------------------------+------------------+-------------------+-------------+--------------------+\n",
       "only showing top 20 rows\n",
       "\n",
       "</div>"
      ],
      "text/plain": [
       "<IPython.core.display.HTML object>"
      ]
     },
     "metadata": {},
     "output_type": "display_data"
    }
   ],
   "source": [
    "table_display(image_md)"
   ]
  },
  {
   "cell_type": "code",
   "execution_count": 12,
   "metadata": {},
   "outputs": [],
   "source": [
    "import boto3\n",
    "s3_client = boto3.client('s3')"
   ]
  },
  {
   "cell_type": "code",
   "execution_count": 13,
   "metadata": {},
   "outputs": [],
   "source": [
    "s3_client.download_file(\"das-prod-inbound-mvn-eu-west-1-e706\", \"prod/images/AQ6030_35359942bad24c079584a802007d7a03.tif\", \"AQ6030_35359942bad24c079584a802007d7a03.tif\")"
   ]
  },
  {
   "cell_type": "code",
   "execution_count": 14,
   "metadata": {},
   "outputs": [
    {
     "data": {
      "text/html": [
       "<div style='white-space: pre; font-family: menlo, monospace; line-height: 1.35em; font-size:13px'>+---------------------------------+--------------+------------------------+-------------+------------+-----------+--------------------------+-----------------------+\n",
       "|business_unit_descr_assetcategory|3D - Rendering|3D - Rendering Retouched|Design Sketch|Illustration|Photography|Photography - YeezyArchive|Photography - eCommerce|\n",
       "+---------------------------------+--------------+------------------------+-------------+------------+-----------+--------------------------+-----------------------+\n",
       "|null                             |36784         |602                     |43491        |0           |60749      |69                        |2635                   |\n",
       "|BU ORIGINALS STATEMENT           |224           |19                      |1126         |0           |746        |0                         |58                     |\n",
       "|BU YOUNG ATHLETES                |4190          |177                     |2698         |0           |4649       |0                         |96                     |\n",
       "|BU S-L                           |0             |0                       |136          |0           |0          |0                         |34                     |\n",
       "|BU PORSCHE                       |0             |0                       |116          |0           |193        |0                         |1                      |\n",
       "|BU HOCKEY                        |0             |0                       |0            |0           |92         |0                         |0                      |\n",
       "|BU TRAINING APP                  |0             |0                       |0            |0           |2          |0                         |0                      |\n",
       "|BU STELLA                        |112           |0                       |331          |0           |575        |0                         |7                      |\n",
       "|BU OUTDOOR                       |2176          |4                       |1489         |0           |2723       |0                         |72                     |\n",
       "|BU CLASSICS                      |0             |0                       |2019         |0           |17990      |0                         |1669                   |\n",
       "|BU ACTION SPORTS                 |2588          |454                     |1578         |0           |2659       |0                         |125                    |\n",
       "|BU RUNNING                       |9460          |24                      |6863         |0           |9273       |0                         |137                    |\n",
       "|BU BASKETBALL                    |4698          |14                      |6101         |0           |3624       |0                         |37                     |\n",
       "|BU FOOTBALL                      |6376          |13                      |2846         |0           |8159       |0                         |245                    |\n",
       "|BU ORIGINALS APP/ACC             |0             |0                       |0            |0           |2291       |0                         |18                     |\n",
       "|BU TRAINING FTW                  |1360          |243                     |988          |0           |1167       |0                         |25                     |\n",
       "|BU SPECIALIST SPORT              |2522          |324                     |1581         |0           |2850       |0                         |37                     |\n",
       "|BU SPORT PERFORMANCE OTHERS      |4             |0                       |14           |0           |373        |0                         |14                     |\n",
       "|BU RBK TRAINING                  |0             |0                       |571          |0           |5228       |0                         |839                    |\n",
       "|BU CORE / NEO ACC HW             |0             |0                       |0            |0           |833        |0                         |11                     |\n",
       "+---------------------------------+--------------+------------------------+-------------+------------+-----------+--------------------------+-----------------------+\n",
       "only showing top 20 rows\n",
       "\n",
       "</div>"
      ],
      "text/plain": [
       "<IPython.core.display.HTML object>"
      ]
     },
     "metadata": {},
     "output_type": "display_data"
    }
   ],
   "source": [
    "table_display(image_md.crosstab('business_unit_descr', 'assetcategory'))"
   ]
  },
  {
   "cell_type": "code",
   "execution_count": 16,
   "metadata": {},
   "outputs": [],
   "source": [
    "from pyspark.sql.functions import col\n",
    "import pyspark.sql.functions as fn"
   ]
  },
  {
   "cell_type": "code",
   "execution_count": 16,
   "metadata": {},
   "outputs": [
    {
     "data": {
      "text/html": [
       "<div style='white-space: pre; font-family: menlo, monospace; line-height: 1.35em; font-size:13px'>+---------------------------------------------------------------------+-----------------------------+\n",
       "|businessunit                                                         |count(DISTINCT articlenumber)|\n",
       "+---------------------------------------------------------------------+-----------------------------+\n",
       "|[&#x27;BU SPECIALIST SPORT&#x27;]                                              |2844                         |\n",
       "|[&#x27;BU Action Sports&#x27;, &#x27;BU ORIGINALS FTW&#x27;]                             |2                            |\n",
       "|[&#x27;BU RBK RUNNING&#x27;]                                                   |9586                         |\n",
       "|[&#x27;BU ORIGINALS APP|ACC&#x27;, &#x27;BU SPORT PERFORMANCE OTHERS&#x27;]              |3                            |\n",
       "|[&#x27;BU Running&#x27;]                                                       |10207                        |\n",
       "|[&#x27;BU SPORT PERFORMANCE OTHERS&#x27;]                                      |499                          |\n",
       "|[&#x27;BU MEN TRAINING&#x27;, &#x27;BU Training FTW&#x27;]                               |3                            |\n",
       "|[&#x27;BU SPORT PERFORMANCE OTHERS&#x27;, &#x27;OTHERS&#x27;]                            |1                            |\n",
       "|[&#x27;BU CORE | NEO ACC HW&#x27;]                                             |1037                         |\n",
       "|[&#x27;BU YEEZY&#x27;]                                                         |216                          |\n",
       "|[&#x27;BU Basketball&#x27;]                                                    |7447                         |\n",
       "|[&#x27;BU CORE FTW&#x27;]                                                      |18204                        |\n",
       "|[&#x27;BU GOLF&#x27;]                                                          |2859                         |\n",
       "|[&#x27;BU RBK TRAINING&#x27;]                                                  |4404                         |\n",
       "|[&#x27;BU MEN TRAINING&#x27;, &#x27;BU SPORT PERFORMANCE OTHERS&#x27;, &#x27;BU Training FTW&#x27;]|2                            |\n",
       "|[&#x27;BU Action Sports&#x27;, &#x27;BU Originals&#x27;]                                 |5                            |\n",
       "|[&#x27;BU Y-3&#x27;]                                                           |832                          |\n",
       "|[&#x27;BU Accessories&#x27;]                                                   |7226                         |\n",
       "|[&#x27;BU Accessories&#x27;, &#x27;BU SPORT PERFORMANCE OTHERS&#x27;]                    |1                            |\n",
       "|[&#x27;BU adidas Golf&#x27;, &#x27;BU GOLF&#x27;]                                        |34                           |\n",
       "+---------------------------------------------------------------------+-----------------------------+\n",
       "only showing top 20 rows\n",
       "\n",
       "</div>"
      ],
      "text/plain": [
       "<IPython.core.display.HTML object>"
      ]
     },
     "metadata": {},
     "output_type": "display_data"
    }
   ],
   "source": [
    "table_display(image_md.groupby(['businessunit']).agg(fn.countDistinct('articlenumber')).alias('articlecount'))"
   ]
  },
  {
   "cell_type": "code",
   "execution_count": 17,
   "metadata": {},
   "outputs": [],
   "source": [
    "from pyspark.sql import SQLContext\n",
    "sqlContext = SQLContext(sc)\n",
    "from pyspark.sql.functions import array_contains"
   ]
  },
  {
   "cell_type": "code",
   "execution_count": 65,
   "metadata": {},
   "outputs": [],
   "source": [
    "#from pyspark.sql.functions import split, explode\n",
    "#image_md.select(explode(col('sellingseasons')).alias(\"sell_seasons\"))"
   ]
  },
  {
   "cell_type": "code",
   "execution_count": 18,
   "metadata": {},
   "outputs": [
    {
     "name": "stdout",
     "output_type": "stream",
     "text": [
      "StructType(List(StructField(id,StringType,true),StructField(articlenumber,StringType,true),StructField(articlename,StringType,true),StructField(modelnumber,StringType,true),StructField(modelname,StringType,true),StructField(assetcategory,StringType,true),StructField(productview,StringType,true),StructField(imagestyle,StringType,true),StructField(brand,StringType,true),StructField(markets,StringType,true),StructField(businessunit,StringType,true),StructField(productdivisions,StringType,true),StructField(producttypes,StringType,true),StructField(agegroups,StringType,true),StructField(genders,StringType,true),StructField(sportscategories,StringType,true),StructField(sellingseasons,StringType,true),StructField(marketingseasons,StringType,true),StructField(assetname,StringType,true),StructField(workingnumber,StringType,true),StructField(createdon,StringType,true),StructField(modifiedon,StringType,true),StructField(metadataupdated,StringType,true),StructField(assetphases,StringType,true),StructField(status,StringType,true),StructField(confidential,StringType,true),StructField(allowdownload,StringType,true),StructField(usage,StringType,true),StructField(scopes,StringType,true),StructField(latestfileid,StringType,true),StructField(vendor,StringType,true),StructField(aspectratio,StringType,true),StructField(mainrgbcolor,StringType,true),StructField(colorcombination,StringType,true),StructField(type,StringType,true),StructField(contenttype,StringType,true),StructField(comments,StringType,true),StructField(download_url_key,StringType,true),StructField(destination_path_key,StringType,true),StructField(missing_reason_key,StringType,true),StructField(processed_on_key,StringType,true),StructField(group_article,StringType,true),StructField(business_unit_descr,StringType,true)))\n"
     ]
    }
   ],
   "source": [
    "print(image_md.schema)"
   ]
  },
  {
   "cell_type": "code",
   "execution_count": 45,
   "metadata": {},
   "outputs": [],
   "source": [
    "from itertools import groupby\n",
    "from pyspark.sql import types as T\n",
    "def function(x, value):\n",
    "    result = 0\n",
    "    for key in x:\n",
    "        if key == value:\n",
    "            result = 1\n",
    "    return(result)\n",
    "\n",
    "udfFunctionCall = F.udf(function, T.IntegerType())"
   ]
  },
  {
   "cell_type": "code",
   "execution_count": null,
   "metadata": {},
   "outputs": [],
   "source": [
    "image_md = image_md.withColumn(\"FW16\", udfFunctionCall(image_md['sellingseasons'], 'Fall/Winter 2016'))"
   ]
  },
  {
   "cell_type": "code",
   "execution_count": 18,
   "metadata": {},
   "outputs": [
    {
     "data": {
      "text/html": [
       "<div style='white-space: pre; font-family: menlo, monospace; line-height: 1.35em; font-size:13px'>+--------------------------------+-------------+------------------------------+-----------+------------------------------+-----------------------+------------------------+----------+------+-----------------------------------------------------------------------------------------------------------------------------------------------------------------------------------------------------------------------------------------------------------------------------------------------------------+------------------------+----------------+------------------------------+----------+----------+-----------------------+----------------------------------------------------------------------------------------------------------------------------------------------------+----------------------------------------------------------------------------------------------------------------------------------------------------+---------------------------------+---------------+-------------------+-------------------+-------------------+-----------+--------+------------+-------------+----------------------------------+----------------+--------------------------------+------------------+-----------+------------+-----------------------------------------------------------+-----+--------------+--------+---------------------------------------------------------------------------------+-------------------------------------------------------------------------------------------+------------------+-------------------+-------------+--------------------+\n",
       "|id                              |articlenumber|articlename                   |modelnumber|modelname                     |assetcategory          |productview             |imagestyle|brand |markets                                                                                                                                                                                                                                                                                                    |businessunit            |productdivisions|producttypes                  |agegroups |genders   |sportscategories       |sellingseasons                                                                                                                                      |marketingseasons                                                                                                                                    |assetname                        |workingnumber  |createdon          |modifiedon         |metadataupdated    |assetphases|status  |confidential|allowdownload|usage                             |scopes          |latestfileid                    |vendor            |aspectratio|mainrgbcolor|colorcombination                                           |type |contenttype   |comments|download_url_key                                                                 |destination_path_key                                                                       |missing_reason_key|processed_on_key   |group_article|business_unit_descr |\n",
       "+--------------------------------+-------------+------------------------------+-----------+------------------------------+-----------------------+------------------------+----------+------+-----------------------------------------------------------------------------------------------------------------------------------------------------------------------------------------------------------------------------------------------------------------------------------------------------------+------------------------+----------------+------------------------------+----------+----------+-----------------------+----------------------------------------------------------------------------------------------------------------------------------------------------+----------------------------------------------------------------------------------------------------------------------------------------------------+---------------------------------+---------------+-------------------+-------------------+-------------------+-----------+--------+------------+-------------+----------------------------------+----------------+--------------------------------+------------------+-----------+------------+-----------------------------------------------------------+-----+--------------+--------+---------------------------------------------------------------------------------+-------------------------------------------------------------------------------------------+------------------+-------------------+-------------+--------------------+\n",
       "|85ad5d3a05e14a4ca538a4f10087434c|AQ6030       |ch Rocket m                   |KDJ07      |ch Rocket m                   |3D - Rendering         |Side Lateral View       |Standard  |adidas|[&#x27;APAC China&#x27;, &#x27;APAC Hong Kong&#x27;, &#x27;APAC Japan&#x27;, &#x27;APAC Korea&#x27;, &#x27;APAC Taiwan&#x27;, &#x27;EM CENTRAL&#x27;, &#x27;EM EAST&#x27;, &#x27;EM NORTH&#x27;, &#x27;Market Mexico&#x27;, &#x27;North America&#x27;, &#x27;WE KEY ACCOUNT&#x27;]                                                                                                                                       |[&#x27;BU Running&#x27;]          |[&#x27;footwear&#x27;]    |[&#x27;SHOES - LOW (NON FOOTBALL)&#x27;]|[&#x27;ADULT&#x27;] |[&#x27;MALE&#x27;]  |[&#x27;RUNNING&#x27;]            |[&#x27;Fall/Winter 2016&#x27;]                                                                                                                                |[&#x27;Fall|Winter 2016&#x27;]                                                                                                                                |AQ6030_SL.tif                    |18430947       |2015-08-11T08:12:28|2016-11-14T15:07:14|2020-01-06T18:10:28|[&#x27;SMS&#x27;]    |Final   |False       |True         |[&#x27;B2B Catalogue&#x27;, &#x27;Sell in&#x27;]      |[&#x27;OUT OF SCOPE&#x27;]|6a8d00357eca4b81b69ba5570182f82b|RTT               |           |            |                                                           |Asset|Product Images|        |https://api.marvin.adidas-group.com/v1/c53/files/6a8d00357eca4b81b69ba5570182f82b|das-prod-inbound-mvn-eu-west-1-e706/prod/images/AQ6030_85ad5d3a05e14a4ca538a4f10087434c.tif|                  |2020-01-31T12:26:26|AQ6030       |BU RUNNING          |\n",
       "|9c39d2cbff5146978501a4f1008747bd|AQ6030       |ch Rocket m                   |KDJ07      |ch Rocket m                   |3D - Rendering         |Side Lateral Left View  |Standard  |adidas|[&#x27;APAC China&#x27;, &#x27;APAC Hong Kong&#x27;, &#x27;APAC Japan&#x27;, &#x27;APAC Korea&#x27;, &#x27;APAC Taiwan&#x27;, &#x27;EM CENTRAL&#x27;, &#x27;EM EAST&#x27;, &#x27;EM NORTH&#x27;, &#x27;Market Mexico&#x27;, &#x27;North America&#x27;, &#x27;WE KEY ACCOUNT&#x27;]                                                                                                                                       |[&#x27;BU Running&#x27;]          |[&#x27;footwear&#x27;]    |[&#x27;SHOES - LOW (NON FOOTBALL)&#x27;]|[&#x27;ADULT&#x27;] |[&#x27;MALE&#x27;]  |[&#x27;RUNNING&#x27;]            |[&#x27;Fall/Winter 2016&#x27;]                                                                                                                                |[&#x27;Fall|Winter 2016&#x27;]                                                                                                                                |AQ6030_SLL.tif                   |18430947       |2015-08-11T08:12:32|2016-11-14T15:07:14|2020-01-06T18:10:28|[&#x27;SMS&#x27;]    |Final   |False       |True         |[&#x27;B2B Catalogue&#x27;, &#x27;Sell in&#x27;]      |[&#x27;OUT OF SCOPE&#x27;]|c2437c01bb8d4d98b874a5570182fb6c|RTT               |           |            |                                                           |Asset|Product Images|        |https://api.marvin.adidas-group.com/v1/c53/files/c2437c01bb8d4d98b874a5570182fb6c|das-prod-inbound-mvn-eu-west-1-e706/prod/images/AQ6030_9c39d2cbff5146978501a4f1008747bd.tif|                  |2020-01-31T12:26:26|AQ6030       |BU RUNNING          |\n",
       "|e2d94304ff9242cfa4bfa64301161774|AQ6030       |ch Rocket m                   |KDJ07      |ch Rocket m                   |Photography            |Side Lateral View       |Standard  |adidas|[&#x27;APAC China&#x27;, &#x27;APAC Hong Kong&#x27;, &#x27;APAC Japan&#x27;, &#x27;APAC Korea&#x27;, &#x27;APAC Taiwan&#x27;, &#x27;EM CENTRAL&#x27;, &#x27;EM EAST&#x27;, &#x27;EM NORTH&#x27;, &#x27;Market Mexico&#x27;, &#x27;North America&#x27;, &#x27;WE KEY ACCOUNT&#x27;]                                                                                                                                       |[&#x27;BU Running&#x27;]          |[&#x27;footwear&#x27;]    |[&#x27;SHOES - LOW (NON FOOTBALL)&#x27;]|[&#x27;ADULT&#x27;] |[&#x27;MALE&#x27;]  |[&#x27;RUNNING&#x27;]            |[&#x27;Fall/Winter 2016&#x27;]                                                                                                                                |[&#x27;Fall|Winter 2016&#x27;]                                                                                                                                |AQ6030_SL_eCom.tif               |18430947       |2016-07-14T16:52:30|2017-11-01T21:15:33|2020-01-06T18:10:28|[&#x27;SMS&#x27;]    |Final   |False       |True         |[&#x27;eCommerce&#x27;]                     |[&#x27;OUT OF SCOPE&#x27;]|6165e8653dd64433ac9aa8100029e32e|Nureg             |           |            |core black/core black/Utility Black F16                    |Asset|Product Images|        |https://api.marvin.adidas-group.com/v1/c53/files/6165e8653dd64433ac9aa8100029e32e|das-prod-inbound-mvn-eu-west-1-e706/prod/images/AQ6030_e2d94304ff9242cfa4bfa64301161774.tif|                  |2020-01-31T12:26:26|AQ6030       |BU RUNNING          |\n",
       "|efed2e9a7842447eb032a647008064e8|AQ6030       |ch Rocket m                   |KDJ07      |ch Rocket m                   |Photography            |Left Side Lateral View  |Standard  |adidas|[&#x27;APAC China&#x27;, &#x27;APAC Hong Kong&#x27;, &#x27;APAC Japan&#x27;, &#x27;APAC Korea&#x27;, &#x27;APAC Taiwan&#x27;, &#x27;EM CENTRAL&#x27;, &#x27;EM EAST&#x27;, &#x27;EM NORTH&#x27;, &#x27;Market Mexico&#x27;, &#x27;North America&#x27;, &#x27;WE KEY ACCOUNT&#x27;]                                                                                                                                       |[&#x27;BU Running&#x27;]          |[&#x27;footwear&#x27;]    |[&#x27;SHOES - LOW (NON FOOTBALL)&#x27;]|[&#x27;ADULT&#x27;] |[&#x27;MALE&#x27;]  |[&#x27;RUNNING&#x27;]            |[&#x27;Fall/Winter 2016&#x27;]                                                                                                                                |[&#x27;Fall|Winter 2016&#x27;]                                                                                                                                |AQ6030_LSL_eCom.tif              |18430947       |2016-07-18T07:47:28|2016-11-14T15:07:17|2020-01-06T18:10:28|[&#x27;SMS&#x27;]    |Final   |False       |True         |[&#x27;eCommerce&#x27;]                     |[&#x27;OUT OF SCOPE&#x27;]|22c3483b08fa4135a454a6470080916f|Nureg             |           |            |core black/core black/Utility Black F16                    |Asset|Product Images|        |https://api.marvin.adidas-group.com/v1/c53/files/22c3483b08fa4135a454a6470080916f|das-prod-inbound-mvn-eu-west-1-e706/prod/images/AQ6030_efed2e9a7842447eb032a647008064e8.tif|                  |2020-01-31T12:26:26|AQ6030       |BU RUNNING          |\n",
       "|a5b6c6ae32e24339ab12a6c800b04205|S98151       |6P CAP COTTON                 |BXA88      |6P CAP COTTON                 |Photography            |Front Side Lateral View |Standard  |adidas|[&#x27;APAC China&#x27;, &#x27;APAC Hong Kong&#x27;, &#x27;APAC Japan&#x27;, &#x27;APAC Korea&#x27;, &#x27;APAC SEA&#x27;, &#x27;APAC Taiwan&#x27;, &#x27;CIS&#x27;, &#x27;Cluster Russian Federation&#x27;, &#x27;EM CENTRAL&#x27;, &#x27;EM EAST&#x27;, &#x27;EM NORTH&#x27;, &#x27;EM SOUTH&#x27;, &#x27;Emerging Markets&#x27;, &#x27;Global SPOMA&#x27;, &#x27;Greater China&#x27;, &#x27;Market Mexico&#x27;, &#x27;North America&#x27;, &#x27;WE KEY ACCOUNT&#x27;, &#x27;WE RETL&#x27;, &#x27;WE WHS&#x27;]|[&#x27;BU Accessories&#x27;]      |[&#x27;HARDWARE&#x27;]    |[&#x27;CAP&#x27;]                       |[&#x27;ADULT&#x27;] |[&#x27;Unisex&#x27;]|[&#x27;NOT SPORTS SPECIFIC&#x27;]|[&#x27;Fall/Winter 2017&#x27;, &#x27;Fall/Winter 2018&#x27;, &#x27;Fall/Winter 2019&#x27;, &#x27;Spring/Summer 2017&#x27;, &#x27;Spring/Summer 2018&#x27;, &#x27;Spring/Summer 2019&#x27;, &#x27;Spring/Summer 2020&#x27;]|[&#x27;Fall|Winter 2017&#x27;, &#x27;Fall|Winter 2018&#x27;, &#x27;Fall|Winter 2019&#x27;, &#x27;Spring|Summer 2017&#x27;, &#x27;Spring|Summer 2018&#x27;, &#x27;Spring|Summer 2019&#x27;, &#x27;Spring|Summer 2020&#x27;]|S98151_FSL_eCom.tif              |S1715CA1004U   |2016-11-24T10:41:44|2017-11-01T21:38:40|2020-01-21T12:00:45|           |Final   |False       |True         |[&#x27;eCommerce&#x27;]                     |[&#x27;PHOTO&#x27;]       |30631361b1a64850a4c4a80200d5044a|Wiethe            |           |            |                                                           |Asset|Product Images|        |https://api.marvin.adidas-group.com/v1/c53/files/30631361b1a64850a4c4a80200d5044a|das-prod-inbound-mvn-eu-west-1-e706/prod/images/S98151_a5b6c6ae32e24339ab12a6c800b04205.tif|                  |2020-02-05T12:46:27|S98151       |BU ACCESSORIES      |\n",
       "|a846eb9741b0405cb858a756000a5001|CI0067       |Original EQT National Backpack|CWR41      |Original EQT National Backpack|Photography            |Front Side Lateral View |Standard  |adidas|[&#x27;North America&#x27;]                                                                                                                                                                                                                                                                                          |[&#x27;BU ORIGINALS APP|ACC&#x27;]|[&#x27;HARDWARE&#x27;]    |[&#x27;BACKPACK&#x27;]                  |[&#x27;ADULT&#x27;] |[&#x27;Unisex&#x27;]|[&#x27;SPORT STYLE&#x27;]        |[&#x27;Fall/Winter 2017&#x27;]                                                                                                                                |[&#x27;Fall|Winter 2017&#x27;]                                                                                                                                |CI0067_FSL_eCom.tif              |               |2017-04-15T00:37:32|2017-04-15T00:41:09|2020-01-13T18:23:48|           |Final   |False       |True         |[&#x27;eCommerce&#x27;]                     |                |ca5a2841a6094adeacefa756000af55b|Straub US         |           |            |                                                           |Asset|Product Images|        |https://api.marvin.adidas-group.com/v1/c53/files/ca5a2841a6094adeacefa756000af55b|das-prod-inbound-mvn-eu-west-1-e706/prod/images/CI0067_a846eb9741b0405cb858a756000a5001.tif|                  |2020-02-02T09:36:04|CI0067       |BU ORIGINALS APP/ACC|\n",
       "|010e8d323a14469ba08aaa5301199048|DZ6815       |BUMBAG                        |FYF62      |BUMBAG                        |Photography            |Front Side Lateral View |Standard  |adidas|[&#x27;APAC China&#x27;, &#x27;APAC Hong Kong&#x27;, &#x27;APAC Japan&#x27;, &#x27;APAC Korea&#x27;, &#x27;APAC Taiwan&#x27;, &#x27;CIS&#x27;, &#x27;Global SPOMA&#x27;, &#x27;Greater China&#x27;, &#x27;North America&#x27;, &#x27;WE KEY ACCOUNT&#x27;, &#x27;WE RETL&#x27;, &#x27;WE WHS&#x27;]                                                                                                                                |[&#x27;BU STELLA&#x27;]           |[&#x27;HARDWARE&#x27;]    |[&#x27;OTHER BAG&#x27;]                 |[&#x27;ADULT&#x27;] |[&#x27;FEMALE&#x27;]|[&#x27;TRAINING&#x27;]           |[&#x27;Fall/Winter 2019&#x27;]                                                                                                                                |[&#x27;Fall|Winter 2019&#x27;]                                                                                                                                |DZ6815_FSL_eCom.tif              |F19SMCACCBA07  |2019-05-20T17:05:08|2019-05-20T17:06:51|2020-01-08T02:03:38|           |Final   |False       |True         |[&#x27;eCommerce&#x27;]                     |[&#x27;OUT OF SCOPE&#x27;]|1ba597d4d8084e039c43aa530119d5ea|Wiethe            |           |            |                                                           |Asset|Product Images|        |https://api.marvin.adidas-group.com/v1/c53/files/1ba597d4d8084e039c43aa530119d5ea|das-prod-inbound-mvn-eu-west-1-e706/prod/images/DZ6815_010e8d323a14469ba08aaa5301199048.tif|                  |2020-02-05T12:46:27|DZ6815       |BU STELLA           |\n",
       "|2a9e9e76fb3d497f99b5a7a001246090|CY9950       |OUTDOOR BACKPAC               |FAH88      |OUTDOOR BACKPAC               |Photography            |Front Side Lateral View |Standard  |adidas|[&#x27;APAC Japan&#x27;, &#x27;APAC SEA&#x27;, &#x27;CIS&#x27;, &#x27;EM CENTRAL&#x27;, &#x27;Emerging Markets&#x27;, &#x27;Market Mexico&#x27;, &#x27;North America&#x27;, &#x27;WE KEY ACCOUNT&#x27;, &#x27;WE RETL&#x27;, &#x27;WE WHS&#x27;]                                                                                                                                                               |[&#x27;BU ORIGINALS APP|ACC&#x27;]|[&#x27;HARDWARE&#x27;]    |[&#x27;BACKPACK&#x27;]                  |[&#x27;ADULT&#x27;] |[&#x27;Unisex&#x27;]|[&#x27;ORIGINALS&#x27;]          |[&#x27;Fall/Winter 2017&#x27;, &#x27;Fall/Winter 2018&#x27;, &#x27;Spring/Summer 2018&#x27;]                                                                                      |[&#x27;Fall|Winter 2017&#x27;, &#x27;Fall|Winter 2018&#x27;, &#x27;Spring|Summer 2018&#x27;]                                                                                      |CY9950_FSL_eCom.tif              |ISC174OA001    |2017-06-28T17:44:30|2019-03-22T21:13:47|2020-02-04T04:20:02|           |Final   |False       |True         |[&#x27;eCommerce&#x27;]                     |[&#x27;OUT OF SCOPE&#x27;]|a5e53aa0e2c84270988aa7a00124b9b2|Wiethe            |           |            |                                                           |Asset|Product Images|        |https://api.marvin.adidas-group.com/v1/c53/files/a5e53aa0e2c84270988aa7a00124b9b2|das-prod-inbound-mvn-eu-west-1-e706/prod/images/CY9950_2a9e9e76fb3d497f99b5a7a001246090.tif|                  |2020-02-08T13:00:19|CY9950       |BU ORIGINALS APP/ACC|\n",
       "|f52091264e1f4ab99df8ab1001080db9|FJ9262       |CLAS BP 3S POCK               |FTB44      |CLAS BP 3S POCK               |Photography            |Front Side Lateral View |Standard  |adidas|[&#x27;APAC China&#x27;, &#x27;APAC Hong Kong&#x27;, &#x27;APAC Japan&#x27;, &#x27;APAC Korea&#x27;, &#x27;APAC SEA&#x27;, &#x27;APAC Taiwan&#x27;, &#x27;Cluster Russian Federation&#x27;, &#x27;EM CENTRAL&#x27;, &#x27;EM EAST&#x27;, &#x27;EM NORTH&#x27;, &#x27;EM SOUTH&#x27;, &#x27;Market Mexico&#x27;, &#x27;WE KEY ACCOUNT&#x27;, &#x27;WE RETL&#x27;, &#x27;WE WHS&#x27;]                                                                             |[&#x27;BU Accessories&#x27;]      |[&#x27;HARDWARE&#x27;]    |[&#x27;BACKPACK&#x27;]                  |[&#x27;ADULT&#x27;] |[&#x27;Unisex&#x27;]|[&#x27;NOT SPORTS SPECIFIC&#x27;]|[&#x27;Fall/Winter 2020&#x27;, &#x27;Spring/Summer 2020&#x27;]                                                                                                          |[&#x27;Fall|Winter 2020&#x27;, &#x27;Spring|Summer 2020&#x27;]                                                                                                          |FJ9262_FSL_eCom.tif              |S1915BA1411U   |2019-11-25T16:01:23|2019-11-25T16:03:23|2020-02-10T09:15:12|           |Final   |False       |True         |[&#x27;eCommerce&#x27;]                     |[&#x27;OUT OF SCOPE&#x27;]|41451473015041069a25ab10010862cb|Wiethe            |           |            |                                                           |Asset|Product Images|        |https://api.marvin.adidas-group.com/v1/c53/files/41451473015041069a25ab10010862cb|das-prod-inbound-mvn-eu-west-1-e706/prod/images/FJ9262_f52091264e1f4ab99df8ab1001080db9.tif|                  |2020-02-10T10:17:35|FJ9262       |null                |\n",
       "|940ef7b7ee9a4d02bd58a74600798377|CE1371       |OPS BP 20L S                  |MKS65      |OPS BP 20L S                  |Photography            |Front Side Lateral View |Standard  |adidas|[&#x27;APAC Hong Kong&#x27;, &#x27;APAC Japan&#x27;, &#x27;APAC Taiwan&#x27;, &#x27;Global SPOMA&#x27;]                                                                                                                                                                                                                                            |[&#x27;BU Accessories&#x27;]      |[&#x27;HARDWARE&#x27;]    |[&#x27;BACKPACK&#x27;]                  |[&#x27;ADULT&#x27;] |[&#x27;Unisex&#x27;]|[&#x27;TRAINING&#x27;]           |[&#x27;Fall/Winter 2017&#x27;]                                                                                                                                |[&#x27;Fall|Winter 2017&#x27;]                                                                                                                                |CE1371_FSL_eCom.tif              |JS1715BA0012U  |2017-03-30T07:22:25|2017-03-30T07:24:18|2020-01-21T12:11:18|           |Final   |False       |True         |[&#x27;eCommerce&#x27;]                     |[&#x27;PHOTO&#x27;]       |ed0ed527f0004e9888e1a7460079fdb4|Straub HK         |           |            |                                                           |Asset|Product Images|        |https://api.marvin.adidas-group.com/v1/c53/files/ed0ed527f0004e9888e1a7460079fdb4|das-prod-inbound-mvn-eu-west-1-e706/prod/images/CE1371_940ef7b7ee9a4d02bd58a74600798377.tif|                  |2020-02-02T09:36:04|CE1371       |BU ACCESSORIES      |\n",
       "|31cc107ea99042d0830aaae6014632fe|GI8454       |PERF SLOUCH                   |JKL83      |PERF SLOUCH                   |Photography - eCommerce|Front Side Lateral View |Standard  |adidas|[&#x27;US Team Services&#x27;]                                                                                                                                                                                                                                                                                       |[&#x27;BU Accessories&#x27;]      |[&#x27;HARDWARE&#x27;]    |[&#x27;CAP&#x27;]                       |[&#x27;ADULT&#x27;] |[&#x27;MALE&#x27;]  |[&#x27;NOT SPORTS SPECIFIC&#x27;]|[&#x27;Fall/Winter 2019&#x27;]                                                                                                                                |[&#x27;Fall|Winter 2019&#x27;]                                                                                                                                |GI8454_FSL_eCom.tif              |F19104147H1PHLY|2019-10-14T19:47:39|2019-10-14T19:47:41|2020-01-21T12:58:32|           |Final   |False       |True         |[&#x27;eCommerceLocal&#x27;]                |[&#x27;OUT OF SCOPE&#x27;]|394744c9b37f44a3906faae601463584|Local Image Ingest|           |            |                                                           |Asset|Product Images|        |https://api.marvin.adidas-group.com/v1/c53/files/394744c9b37f44a3906faae601463584|das-prod-inbound-mvn-eu-west-1-e706/prod/images/GI8454_31cc107ea99042d0830aaae6014632fe.tif|                  |2020-02-05T12:46:28|GI8454       |BU ACCESSORIES      |\n",
       "|90b53e1ba47043b78769aae6015042d2|GI8454       |PERF SLOUCH                   |JKL83      |PERF SLOUCH                   |Photography - eCommerce|Front Side Lateral View |3D Torso  |adidas|[&#x27;US Team Services&#x27;]                                                                                                                                                                                                                                                                                       |[&#x27;BU Accessories&#x27;]      |[&#x27;HARDWARE&#x27;]    |[&#x27;CAP&#x27;]                       |[&#x27;ADULT&#x27;] |[&#x27;MALE&#x27;]  |[&#x27;NOT SPORTS SPECIFIC&#x27;]|[&#x27;Fall/Winter 2019&#x27;]                                                                                                                                |[&#x27;Fall|Winter 2019&#x27;]                                                                                                                                |GI8454_FSL_eCom.tif              |F19104147H1PHLY|2019-10-14T20:24:17|2019-10-16T16:20:06|2020-01-21T12:56:33|           |Final   |False       |True         |[&#x27;eCommerceLocal&#x27;]                |[&#x27;OUT OF SCOPE&#x27;]|cd784b4d474a4fe68f42aae8010d31d4|adidas            |           |            |                                                           |Asset|Product Images|        |https://api.marvin.adidas-group.com/v1/c53/files/cd784b4d474a4fe68f42aae8010d31d4|das-prod-inbound-mvn-eu-west-1-e706/prod/images/GI8454_90b53e1ba47043b78769aae6015042d2.tif|                  |2020-02-05T12:46:28|GI8454       |BU ACCESSORIES      |\n",
       "|d02a0e18566e453da455a6cc01313646|BQ1025       |YOGA BAG                      |NEN62      |YOGA BAG                      |Photography            |Front Side Lateral View |Standard  |adidas|[&#x27;APAC China&#x27;, &#x27;APAC Japan&#x27;, &#x27;APAC Korea&#x27;, &#x27;CIS&#x27;, &#x27;EM CENTRAL&#x27;, &#x27;Emerging Markets&#x27;, &#x27;Global SPOMA&#x27;, &#x27;Greater China&#x27;, &#x27;North America&#x27;, &#x27;WE KEY ACCOUNT&#x27;, &#x27;WE RETL&#x27;, &#x27;WE WHS&#x27;]                                                                                                                               |[&#x27;BU STELLA&#x27;]           |[&#x27;HARDWARE&#x27;]    |[&#x27;OTHER BAG&#x27;]                 |[&#x27;ADULT&#x27;] |[&#x27;FEMALE&#x27;]|[&#x27;YOGA&#x27;]               |[&#x27;Spring/Summer 2017&#x27;]                                                                                                                              |[&#x27;Spring|Summer 2017&#x27;]                                                                                                                              |BQ1025_FSL_eCom.tif              |S17SMCACCBA10  |2016-11-28T18:31:14|2016-11-28T18:36:08|2020-01-08T12:05:11|           |Final   |False       |True         |[&#x27;eCommerce&#x27;]                     |[&#x27;OUT OF SCOPE&#x27;]|dff0668f7c444812abe2a6cc0132517d|Wiethe            |           |            |                                                           |Asset|Product Images|        |https://api.marvin.adidas-group.com/v1/c53/files/dff0668f7c444812abe2a6cc0132517d|das-prod-inbound-mvn-eu-west-1-e706/prod/images/BQ1025_d02a0e18566e453da455a6cc01313646.tif|                  |2020-02-02T09:36:04|BQ1025       |null                |\n",
       "|9a31c6053cbf4a46a03fa6d500ceda7a|CQ1680       |RapidaFlex 2 Cool EL I        |EFV14      |RapidaFlex 2 Cool EL I        |Design Sketch          |Side Lateral Left View  |Standard  |adidas|[&#x27;APAC China&#x27;, &#x27;APAC Hong Kong&#x27;, &#x27;APAC SEA&#x27;, &#x27;APAC Taiwan&#x27;, &#x27;CIS&#x27;, &#x27;Cluster Russian Federation&#x27;, &#x27;EM CENTRAL&#x27;, &#x27;Greater China&#x27;]                                                                                                                                                                            |[&#x27;BU YOUNG ATHLETES&#x27;]   |[&#x27;footwear&#x27;]    |[&#x27;SHOES - LOW (NON FOOTBALL)&#x27;]|[&#x27;INFANT&#x27;]|[&#x27;Unisex&#x27;]|[&#x27;TRAINING&#x27;]           |[&#x27;Fall/Winter 2019&#x27;, &#x27;Spring/Summer 2018&#x27;, &#x27;Spring/Summer 2020&#x27;]                                                                                    |[&#x27;Fall|Winter 2019&#x27;, &#x27;Spring|Summer 2018&#x27;, &#x27;Spring|Summer 2020&#x27;]                                                                                    |CQ1680_Side Lateral Left View.tif|22457773       |2016-12-07T12:33:07|2017-02-28T16:21:38|2020-02-06T08:05:40|[&#x27;SMS&#x27;]    |Released|False       |True         |[&#x27;B2B Catalogue&#x27;, &#x27;Sell in&#x27;]      |[&#x27;3D SCOPE&#x27;]    |ba590b90fbf747518edfa71b00e3f1b1|adidas            |           |D3C3D9      |AERO PINK S18 AAFJ / FTWR WHITE 01F7 / VIVID BERRY S14 A6WJ|Asset|Product Images|        |https://api.marvin.adidas-group.com/v1/c53/files/ba590b90fbf747518edfa71b00e3f1b1|das-prod-inbound-mvn-eu-west-1-e706/prod/images/CQ1680_9a31c6053cbf4a46a03fa6d500ceda7a.tif|                  |2020-02-10T10:17:35|CQ1680       |null                |\n",
       "|9d18c83197a54111ab7da886010d5dd8|CQ1680       |RapidaFlex 2 Cool EL I        |EFV14      |RapidaFlex 2 Cool EL I        |Photography            |Side Lateral View       |Standard  |adidas|[&#x27;APAC China&#x27;, &#x27;APAC Hong Kong&#x27;, &#x27;APAC SEA&#x27;, &#x27;APAC Taiwan&#x27;, &#x27;CIS&#x27;, &#x27;Cluster Russian Federation&#x27;, &#x27;EM CENTRAL&#x27;, &#x27;Greater China&#x27;]                                                                                                                                                                            |[&#x27;BU YOUNG ATHLETES&#x27;]   |[&#x27;footwear&#x27;]    |[&#x27;SHOES - LOW (NON FOOTBALL)&#x27;]|[&#x27;INFANT&#x27;]|[&#x27;Unisex&#x27;]|[&#x27;TRAINING&#x27;]           |[&#x27;Fall/Winter 2019&#x27;, &#x27;Spring/Summer 2018&#x27;, &#x27;Spring/Summer 2020&#x27;]                                                                                    |[&#x27;Fall|Winter 2019&#x27;, &#x27;Spring|Summer 2018&#x27;, &#x27;Spring|Summer 2020&#x27;]                                                                                    |CQ1680_SL_eCom.tif               |22457773       |2018-02-13T16:20:44|2018-02-13T16:23:35|2020-02-06T08:11:51|[&#x27;SMS&#x27;]    |Final   |False       |True         |[&#x27;eCommerce&#x27;]                     |[&#x27;3D SCOPE&#x27;]    |9b91e5e00eaf409bbbf7a886010e26c0|Nureg             |           |            |aero pink s18/ftwr white/Vivid Berry S14                   |Asset|Product Images|        |https://api.marvin.adidas-group.com/v1/c53/files/9b91e5e00eaf409bbbf7a886010e26c0|das-prod-inbound-mvn-eu-west-1-e706/prod/images/CQ1680_9d18c83197a54111ab7da886010d5dd8.tif|                  |2020-02-10T10:17:35|CQ1680       |null                |\n",
       "|9d372d3a29774219a88aa737008d1429|CQ1680       |RapidaFlex 2 Cool EL I        |EFV14      |RapidaFlex 2 Cool EL I        |Photography            |Side Lateral View       |Standard  |adidas|[&#x27;APAC China&#x27;, &#x27;APAC Hong Kong&#x27;, &#x27;APAC SEA&#x27;, &#x27;APAC Taiwan&#x27;, &#x27;CIS&#x27;, &#x27;Cluster Russian Federation&#x27;, &#x27;EM CENTRAL&#x27;, &#x27;Greater China&#x27;]                                                                                                                                                                            |[&#x27;BU YOUNG ATHLETES&#x27;]   |[&#x27;footwear&#x27;]    |[&#x27;SHOES - LOW (NON FOOTBALL)&#x27;]|[&#x27;INFANT&#x27;]|[&#x27;Unisex&#x27;]|[&#x27;TRAINING&#x27;]           |[&#x27;Fall/Winter 2019&#x27;, &#x27;Spring/Summer 2018&#x27;, &#x27;Spring/Summer 2020&#x27;]                                                                                    |[&#x27;Fall|Winter 2019&#x27;, &#x27;Spring|Summer 2018&#x27;, &#x27;Spring|Summer 2020&#x27;]                                                                                    |CQ1680_SL_B2CCat.tif             |22457773       |2017-03-15T08:33:39|2017-12-06T08:16:21|2020-02-06T08:08:09|[&#x27;SMS&#x27;]    |Final   |False       |True         |[&#x27;B2B Catalogue&#x27;, &#x27;B2C Catalogue&#x27;]|[&#x27;3D SCOPE&#x27;]    |ef928f3876fc4910a9fca841008853f7|Nureg             |           |            |aero pink s18/ftwr white/Vivid Berry S14                   |Asset|Product Images|        |https://api.marvin.adidas-group.com/v1/c53/files/ef928f3876fc4910a9fca841008853f7|das-prod-inbound-mvn-eu-west-1-e706/prod/images/CQ1680_9d372d3a29774219a88aa737008d1429.tif|                  |2020-02-10T10:17:35|CQ1680       |null                |\n",
       "|a7f93d78d0954a7b9f02a886010cf635|CQ1680       |RapidaFlex 2 Cool EL I        |EFV14      |RapidaFlex 2 Cool EL I        |Photography            |Side Lateral Center View|Standard  |adidas|[&#x27;APAC China&#x27;, &#x27;APAC Hong Kong&#x27;, &#x27;APAC SEA&#x27;, &#x27;APAC Taiwan&#x27;, &#x27;CIS&#x27;, &#x27;Cluster Russian Federation&#x27;, &#x27;EM CENTRAL&#x27;, &#x27;Greater China&#x27;]                                                                                                                                                                            |[&#x27;BU YOUNG ATHLETES&#x27;]   |[&#x27;footwear&#x27;]    |[&#x27;SHOES - LOW (NON FOOTBALL)&#x27;]|[&#x27;INFANT&#x27;]|[&#x27;Unisex&#x27;]|[&#x27;TRAINING&#x27;]           |[&#x27;Fall/Winter 2019&#x27;, &#x27;Spring/Summer 2018&#x27;, &#x27;Spring/Summer 2020&#x27;]                                                                                    |[&#x27;Fall|Winter 2019&#x27;, &#x27;Spring|Summer 2018&#x27;, &#x27;Spring|Summer 2020&#x27;]                                                                                    |CQ1680_SLC_eCom.tif              |22457773       |2018-02-13T16:19:15|2018-02-13T16:21:20|2020-02-06T08:11:47|[&#x27;SMS&#x27;]    |Final   |False       |True         |[&#x27;eCommerce&#x27;]                     |[&#x27;3D SCOPE&#x27;]    |56546a7034924e09ac8ba886010d881b|Nureg             |           |            |aero pink s18/ftwr white/Vivid Berry S14                   |Asset|Product Images|        |https://api.marvin.adidas-group.com/v1/c53/files/56546a7034924e09ac8ba886010d881b|das-prod-inbound-mvn-eu-west-1-e706/prod/images/CQ1680_a7f93d78d0954a7b9f02a886010cf635.tif|                  |2020-02-10T10:17:35|CQ1680       |null                |\n",
       "|b278e7c6cdb343c0a550a70100b8bd59|CQ1680       |RapidaFlex 2 Cool EL I        |EFV14      |RapidaFlex 2 Cool EL I        |3D - Rendering         |Side Lateral View       |Standard  |adidas|[&#x27;APAC China&#x27;, &#x27;APAC Hong Kong&#x27;, &#x27;APAC SEA&#x27;, &#x27;APAC Taiwan&#x27;, &#x27;CIS&#x27;, &#x27;Cluster Russian Federation&#x27;, &#x27;EM CENTRAL&#x27;, &#x27;Greater China&#x27;]                                                                                                                                                                            |[&#x27;BU YOUNG ATHLETES&#x27;]   |[&#x27;footwear&#x27;]    |[&#x27;SHOES - LOW (NON FOOTBALL)&#x27;]|[&#x27;INFANT&#x27;]|[&#x27;Unisex&#x27;]|[&#x27;TRAINING&#x27;]           |[&#x27;Fall/Winter 2019&#x27;, &#x27;Spring/Summer 2018&#x27;, &#x27;Spring/Summer 2020&#x27;]                                                                                    |[&#x27;Fall|Winter 2019&#x27;, &#x27;Spring|Summer 2018&#x27;, &#x27;Spring|Summer 2020&#x27;]                                                                                    |CQ1680_SL.tif                    |22457773       |2017-01-20T11:12:36|2017-04-27T01:31:16|2020-02-06T08:08:02|[&#x27;SMS&#x27;]    |Final   |False       |True         |[&#x27;B2B Catalogue&#x27;, &#x27;Sell in&#x27;]      |[&#x27;3D SCOPE&#x27;]    |3ddea83a841e4391a648a75c015caa6c|RTT               |           |            |                                                           |Asset|Product Images|        |https://api.marvin.adidas-group.com/v1/c53/files/3ddea83a841e4391a648a75c015caa6c|das-prod-inbound-mvn-eu-west-1-e706/prod/images/CQ1680_b278e7c6cdb343c0a550a70100b8bd59.tif|                  |2020-02-10T10:17:35|CQ1680       |null                |\n",
       "|d124354b91384d9ea7faa70100b8c5b8|CQ1680       |RapidaFlex 2 Cool EL I        |EFV14      |RapidaFlex 2 Cool EL I        |3D - Rendering         |Side Lateral Left View  |Standard  |adidas|[&#x27;APAC China&#x27;, &#x27;APAC Hong Kong&#x27;, &#x27;APAC SEA&#x27;, &#x27;APAC Taiwan&#x27;, &#x27;CIS&#x27;, &#x27;Cluster Russian Federation&#x27;, &#x27;EM CENTRAL&#x27;, &#x27;Greater China&#x27;]                                                                                                                                                                            |[&#x27;BU YOUNG ATHLETES&#x27;]   |[&#x27;footwear&#x27;]    |[&#x27;SHOES - LOW (NON FOOTBALL)&#x27;]|[&#x27;INFANT&#x27;]|[&#x27;Unisex&#x27;]|[&#x27;TRAINING&#x27;]           |[&#x27;Fall/Winter 2019&#x27;, &#x27;Spring/Summer 2018&#x27;, &#x27;Spring/Summer 2020&#x27;]                                                                                    |[&#x27;Fall|Winter 2019&#x27;, &#x27;Spring|Summer 2018&#x27;, &#x27;Spring|Summer 2020&#x27;]                                                                                    |CQ1680_SLL.tif                   |22457773       |2017-01-20T11:12:44|2017-04-27T01:31:16|2020-02-06T08:08:03|[&#x27;SMS&#x27;]    |Final   |False       |True         |[&#x27;B2B Catalogue&#x27;, &#x27;Sell in&#x27;]      |[&#x27;3D SCOPE&#x27;]    |1c111eb8bdfd45be9c1ba75c015cafaf|RTT               |           |            |                                                           |Asset|Product Images|        |https://api.marvin.adidas-group.com/v1/c53/files/1c111eb8bdfd45be9c1ba75c015cafaf|das-prod-inbound-mvn-eu-west-1-e706/prod/images/CQ1680_d124354b91384d9ea7faa70100b8c5b8.tif|                  |2020-02-10T10:17:35|CQ1680       |null                |\n",
       "|39ea02a3ade74f65b2e2a9a80105c464|DU6799       |SAMSTAG ARC CAP               |FUA46      |SAMSTAG ARC CAP               |Photography            |Front Side Lateral View |Standard  |adidas|[&#x27;APAC China&#x27;, &#x27;APAC Japan&#x27;, &#x27;APAC Korea&#x27;, &#x27;APAC Taiwan&#x27;, &#x27;CIS&#x27;, &#x27;Global SPOMA&#x27;, &#x27;Greater China&#x27;, &#x27;Market Mexico&#x27;, &#x27;North America&#x27;, &#x27;WE KEY ACCOUNT&#x27;, &#x27;WE RETL&#x27;, &#x27;WE WHS&#x27;]                                                                                                                                 |[&#x27;BU ORIGINALS APP|ACC&#x27;]|[&#x27;HARDWARE&#x27;]    |[&#x27;CAP&#x27;]                       |[&#x27;ADULT&#x27;] |[&#x27;Unisex&#x27;]|[&#x27;ORIGINALS&#x27;]          |[&#x27;Spring/Summer 2019&#x27;]                                                                                                                              |[&#x27;Spring|Summer 2019&#x27;]                                                                                                                              |DU6799_FSL_eCom.tif              |S19AOCA901     |2018-11-30T15:53:03|2019-03-28T12:53:01|2020-02-04T05:06:33|           |Final   |False       |True         |[&#x27;eCommerce&#x27;]                     |[&#x27;PHOTO&#x27;]       |6998d8675b154290a3f6aa1e00d45049|Wiethe            |           |            |                                                           |Asset|Product Images|        |https://api.marvin.adidas-group.com/v1/c53/files/6998d8675b154290a3f6aa1e00d45049|das-prod-inbound-mvn-eu-west-1-e706/prod/images/DU6799_39ea02a3ade74f65b2e2a9a80105c464.tif|                  |2020-02-08T13:00:20|DU6799       |BU ORIGINALS APP/ACC|\n",
       "+--------------------------------+-------------+------------------------------+-----------+------------------------------+-----------------------+------------------------+----------+------+-----------------------------------------------------------------------------------------------------------------------------------------------------------------------------------------------------------------------------------------------------------------------------------------------------------+------------------------+----------------+------------------------------+----------+----------+-----------------------+----------------------------------------------------------------------------------------------------------------------------------------------------+----------------------------------------------------------------------------------------------------------------------------------------------------+---------------------------------+---------------+-------------------+-------------------+-------------------+-----------+--------+------------+-------------+----------------------------------+----------------+--------------------------------+------------------+-----------+------------+-----------------------------------------------------------+-----+--------------+--------+---------------------------------------------------------------------------------+-------------------------------------------------------------------------------------------+------------------+-------------------+-------------+--------------------+\n",
       "only showing top 20 rows\n",
       "\n",
       "</div>"
      ],
      "text/plain": [
       "<IPython.core.display.HTML object>"
      ]
     },
     "metadata": {},
     "output_type": "display_data"
    }
   ],
   "source": [
    "table_display(image_md)"
   ]
  },
  {
   "cell_type": "code",
   "execution_count": null,
   "metadata": {},
   "outputs": [],
   "source": [
    "df.select(df.name, df.new[0].alias(\"sport\"), df.new[1].alias(\"position\")).show(truncate=False)"
   ]
  },
  {
   "cell_type": "code",
   "execution_count": null,
   "metadata": {},
   "outputs": [],
   "source": []
  },
  {
   "cell_type": "code",
   "execution_count": 9,
   "metadata": {},
   "outputs": [],
   "source": [
    "so_by_season = sqlContext.read.csv(\"s3a://das-usecases-eu-west-1-24fc/demand-forecasting/article_image_embeddings/article_season_whs_so.csv\", header = True)"
   ]
  },
  {
   "cell_type": "code",
   "execution_count": 10,
   "metadata": {},
   "outputs": [],
   "source": [
    "article_master = spark_session.sql(\"SELECT group_article, business_unit_descr FROM mart_out.md_group_article\")"
   ]
  },
  {
   "cell_type": "code",
   "execution_count": 11,
   "metadata": {},
   "outputs": [],
   "source": [
    "so_by_season = so_by_season.join(article_master, so_by_season[\"Article_Number\"] == article_master[\"group_article\"], \"inner\")"
   ]
  },
  {
   "cell_type": "code",
   "execution_count": 17,
   "metadata": {},
   "outputs": [
    {
     "data": {
      "text/html": [
       "<div style='white-space: pre; font-family: menlo, monospace; line-height: 1.35em; font-size:13px'>+--------------+-------+-----------+-------------+--------------------+\n",
       "|Article_Number|Season |SO_Quantity|group_article|business_unit_descr |\n",
       "+--------------+-------+-----------+-------------+--------------------+\n",
       "|BY9912        |FW 2017|34         |BY9912       |BU ORIGINALS FTW    |\n",
       "|S96022        |FW 2016|848        |S96022       |BU ORIGINALS APP/ACC|\n",
       "|S96020        |FW 2016|2024       |S96020       |BU ORIGINALS APP/ACC|\n",
       "|ED6242        |FW 2019|1368       |ED6242       |BU ORIGINALS APP/ACC|\n",
       "|ED6245        |FW 2019|2493       |ED6245       |null                |\n",
       "|BA8789        |SS 2017|1861       |BA8789       |null                |\n",
       "|BK0814        |SS 2017|5418       |BK0814       |BU CORE / NEO ACC HW|\n",
       "|BK2952        |SS 2017|776        |BK2952       |BU TRAINING APP     |\n",
       "|BK2947        |SS 2017|89         |BK2947       |BU TRAINING APP     |\n",
       "|BB8409        |SS 2017|4949       |BB8409       |BU ORIGINALS FTW    |\n",
       "|BA8845        |SS 2017|813        |BA8845       |BU RUNNING          |\n",
       "|BB1189        |SS 2017|2696       |BB1189       |BU ORIGINALS FTW    |\n",
       "|S99956        |SS 2017|4705       |S99956       |BU CORE / NEO ACC HW|\n",
       "|S99988        |SS 2017|3479       |S99988       |BU CORE / NEO ACC HW|\n",
       "|S99969        |SS 2017|3122       |S99969       |BU CORE / NEO ACC HW|\n",
       "|S99961        |SS 2017|3924       |S99961       |BU CORE / NEO ACC HW|\n",
       "|S99966        |SS 2017|1002       |S99966       |BU CORE / NEO ACC HW|\n",
       "|BB3003        |SS 2017|1805       |BB3003       |BU ORIGINALS FTW    |\n",
       "|BB3003        |FW 2017|114        |BB3003       |BU ORIGINALS FTW    |\n",
       "|FV4485        |SS 2020|172        |FV4485       |null                |\n",
       "+--------------+-------+-----------+-------------+--------------------+\n",
       "only showing top 20 rows\n",
       "\n",
       "</div>"
      ],
      "text/plain": [
       "<IPython.core.display.HTML object>"
      ]
     },
     "metadata": {},
     "output_type": "display_data"
    }
   ],
   "source": [
    "table_display(so_by_season)"
   ]
  },
  {
   "cell_type": "code",
   "execution_count": null,
   "metadata": {},
   "outputs": [],
   "source": [
    "table_display(so_by_season.crosstab('business_unit_descr', 'Season'))"
   ]
  },
  {
   "cell_type": "markdown",
   "metadata": {},
   "source": [
    "### Fetch Train and Test Datasets"
   ]
  },
  {
   "cell_type": "code",
   "execution_count": 8,
   "metadata": {},
   "outputs": [],
   "source": [
    "### csv containing the SO Quantities at an Article Number - Season grain\n",
    "so_by_season = sqlContext.read.csv(\"s3a://das-usecases-eu-west-1-24fc/demand-forecasting/article_image_embeddings/article_season_whs_so.csv\", header = True) \\\n",
    "                         .dropDuplicates(['Article_Number', 'Season'])"
   ]
  },
  {
   "cell_type": "code",
   "execution_count": 9,
   "metadata": {},
   "outputs": [],
   "source": [
    "### Image storage metadata -- using just the article IDs for the time being -- to be explored later\n",
    "image_md = spark_session.sql(\"SELECT id, articlenumber, articlename, modelname, assetcategory, productview, destination_path_key \\\n",
    "                                FROM preprod_lake.mvn_image_metadata where missing_reason_key == '' AND productview LIKE '%Side Lateral%'\")"
   ]
  },
  {
   "cell_type": "code",
   "execution_count": 10,
   "metadata": {},
   "outputs": [],
   "source": [
    "### extracting BU per article -- do I even need this is the question? Let's keep the BU and product group for now\n",
    "article_master = spark_session.sql(\"SELECT group_article, business_unit_descr as BU, product_group_descr as Product_Group FROM mart_out.md_group_article\") \\\n",
    "                              .dropDuplicates(['group_article'])"
   ]
  },
  {
   "cell_type": "code",
   "execution_count": 11,
   "metadata": {},
   "outputs": [],
   "source": [
    "image_md = image_md.join(article_master, image_md[\"articlenumber\"] == article_master[\"group_article\"], \"inner\")\n",
    "so_by_season = so_by_season.join(image_md, so_by_season['Article_Number'] == image_md['articlenumber'], 'inner') "
   ]
  },
  {
   "cell_type": "code",
   "execution_count": 12,
   "metadata": {},
   "outputs": [
    {
     "data": {
      "text/html": [
       "<div style='white-space: pre; font-family: menlo, monospace; line-height: 1.35em; font-size:13px'>+--------------+-------+-----------+--------------------------------+-------------+---------------+---------------+-------------+-----------------------------+-------------------------------------------------------------------------------------------+-------------+--------------------+-------------+\n",
       "|Article_Number|Season |SO_Quantity|id                              |articlenumber|articlename    |modelname      |assetcategory|productview                  |destination_path_key                                                                       |group_article|BU                  |Product_Group|\n",
       "+--------------+-------+-----------+--------------------------------+-------------+---------------+---------------+-------------+-----------------------------+-------------------------------------------------------------------------------------------+-------------+--------------------+-------------+\n",
       "|AZ2293        |SS 2017|218        |7419cc077b614f8db30ca6c200df68dc|AZ2293       |RUN CAP  REFL  |RUN CAP  REFL  |Photography  |Front Side Lateral Extra View|das-prod-inbound-mvn-eu-west-1-e706/prod/images/AZ2293_7419cc077b614f8db30ca6c200df68dc.tif|AZ2293       |BU STELLA           |HEADWEAR     |\n",
       "|BK7450        |SS 2017|617        |3f6c7b3829534d5bb112a6ad00f2d830|BK7450       |NBA SBC LAKERS |NBA SBC LAKERS |Photography  |Front Side Lateral Extra View|das-prod-inbound-mvn-eu-west-1-e706/prod/images/BK7450_3f6c7b3829534d5bb112a6ad00f2d830.tif|BK7450       |BU ORIGINALS APP/ACC|HEADWEAR     |\n",
       "|CF3997        |FW 2018|488        |9441447a6b154dc9a0d0a800016e034c|CF3997       |FAV TOTE BAG   |FAV TOTE BAG   |Photography  |Front Side Lateral Extra View|das-prod-inbound-mvn-eu-west-1-e706/prod/images/CF3997_9441447a6b154dc9a0d0a800016e034c.tif|CF3997       |BU ACCESSORIES      |BAGS         |\n",
       "|CF3997        |SS 2018|1454       |9441447a6b154dc9a0d0a800016e034c|CF3997       |FAV TOTE BAG   |FAV TOTE BAG   |Photography  |Front Side Lateral Extra View|das-prod-inbound-mvn-eu-west-1-e706/prod/images/CF3997_9441447a6b154dc9a0d0a800016e034c.tif|CF3997       |BU ACCESSORIES      |BAGS         |\n",
       "|CF3998        |SS 2018|413        |c987e3efaff1448496dca800016f71fa|CF3998       |FAV TOTE BAG   |FAV TOTE BAG   |Photography  |Front Side Lateral Extra View|das-prod-inbound-mvn-eu-west-1-e706/prod/images/CF3998_c987e3efaff1448496dca800016f71fa.tif|CF3998       |BU ACCESSORIES      |BAGS         |\n",
       "|DW4775        |SS 2019|2662       |553a0f3e5c9b4739b1a2a9ad00d76448|DW4775       |INF B/G BUCKET |INF B/G BUCKET |Photography  |Front Side Lateral Extra View|das-prod-inbound-mvn-eu-west-1-e706/prod/images/DW4775_553a0f3e5c9b4739b1a2a9ad00d76448.tif|DW4775       |BU ACCESSORIES      |HEADWEAR     |\n",
       "|DV0262        |SS 2019|223        |2ff8bb6808c64dd7a266aa5300e013a8|DV0262       |PACKABLE DUFFEL|PACKABLE DUFFEL|Photography  |Front Side Lateral Extra View|das-prod-inbound-mvn-eu-west-1-e706/prod/images/DV0262_2ff8bb6808c64dd7a266aa5300e013a8.tif|DV0262       |null                |BAGS         |\n",
       "|B45521        |SS 2017|156        |ceadff7b7168444d89aea6c201634942|B45521       |RUN BACKPACK   |RUN BACKPACK   |Photography  |Front Side Lateral Extra View|das-prod-inbound-mvn-eu-west-1-e706/prod/images/B45521_ceadff7b7168444d89aea6c201634942.tif|B45521       |BU STELLA           |BAGS         |\n",
       "|B45522        |SS 2017|36         |99b189728f87448d885da6c20163ad64|B45522       |RUN BACKPACK PR|RUN BACKPACK PR|Photography  |Front Side Lateral Extra View|das-prod-inbound-mvn-eu-west-1-e706/prod/images/B45522_99b189728f87448d885da6c20163ad64.tif|B45522       |BU STELLA           |BAGS         |\n",
       "|DW4774        |SS 2019|2625       |bf622887835247d1a56ea9ad00d75286|DW4774       |INF B/G BUCKET |INF B/G BUCKET |Photography  |Front Side Lateral Extra View|das-prod-inbound-mvn-eu-west-1-e706/prod/images/DW4774_bf622887835247d1a56ea9ad00d75286.tif|DW4774       |BU ACCESSORIES      |HEADWEAR     |\n",
       "|AZ0960        |FW 2016|1262       |ede37abcbbdc4358b15aa621013a1165|AZ0960       |RFLECTIV BAKPAK|RFLECTIV BAKPAK|Photography  |Front Side Lateral Extra View|das-prod-inbound-mvn-eu-west-1-e706/prod/images/AZ0960_ede37abcbbdc4358b15aa621013a1165.tif|AZ0960       |BU CORE / NEO ACC HW|BAGS         |\n",
       "+--------------+-------+-----------+--------------------------------+-------------+---------------+---------------+-------------+-----------------------------+-------------------------------------------------------------------------------------------+-------------+--------------------+-------------+\n",
       "\n",
       "</div>"
      ],
      "text/plain": [
       "<IPython.core.display.HTML object>"
      ]
     },
     "metadata": {},
     "output_type": "display_data"
    }
   ],
   "source": [
    "table_display(so_by_season.filter(so_by_season.productview == \"Front Side Lateral Extra View\"))"
   ]
  },
  {
   "cell_type": "code",
   "execution_count": 13,
   "metadata": {},
   "outputs": [
    {
     "data": {
      "text/html": [
       "<div style='white-space: pre; font-family: menlo, monospace; line-height: 1.35em; font-size:13px'>+-------------------------+-----------------------------+-----------------------+----------------------+-----------------------------+------------------------+----------------------+-----------------+\n",
       "|assetcategory_productview|Front Side Lateral Extra View|Front Side Lateral View|Left Side Lateral View|Side Lateral Center Open View|Side Lateral Center View|Side Lateral Left View|Side Lateral View|\n",
       "+-------------------------+-----------------------------+-----------------------+----------------------+-----------------------------+------------------------+----------------------+-----------------+\n",
       "|3D - Rendering           |0                            |0                      |0                     |0                            |0                       |24990                 |24991            |\n",
       "|3D - Rendering Retouched |0                            |42                     |1835                  |0                            |0                       |0                     |84               |\n",
       "|Design Sketch            |0                            |0                      |0                     |0                            |0                       |28612                 |0                |\n",
       "|Photography              |11                           |4875                   |8173                  |2058                         |19201                   |3632                  |51159            |\n",
       "|Photography - eCommerce  |0                            |196                    |332                   |6                            |151                     |0                     |301              |\n",
       "+-------------------------+-----------------------------+-----------------------+----------------------+-----------------------------+------------------------+----------------------+-----------------+\n",
       "\n",
       "</div>"
      ],
      "text/plain": [
       "<IPython.core.display.HTML object>"
      ]
     },
     "metadata": {},
     "output_type": "display_data"
    }
   ],
   "source": [
    "table_display(so_by_season.crosstab('assetcategory', 'productview'))"
   ]
  },
  {
   "cell_type": "code",
   "execution_count": 14,
   "metadata": {},
   "outputs": [],
   "source": [
    "import boto3\n",
    "import cv2\n",
    "import matplotlib.pyplot as plt\n",
    "def download_image(so_df, \n",
    "                   article_num,\n",
    "                   season,\n",
    "                   view,\n",
    "                   category,\n",
    "                   download_path = \".\",\n",
    "                   verbose = False,\n",
    "                   show = True):\n",
    "    s3_client = boto3.client('s3')\n",
    "    \n",
    "    s3_location = so_df.filter((so_df.productview == view) \\\n",
    "                               & (so_df.assetcategory == category) \\\n",
    "                               & (so_df.Article_Number == article_num) \\\n",
    "                               & (so_df.Season == season)) \\\n",
    "                       .select('destination_path_key') \\\n",
    "                       .collect()\n",
    "    \n",
    "    s3_location = s3_location[0].destination_path_key\n",
    "    \n",
    "    split_path = s3_location.split('/')\n",
    "    s3_bucket = split_path[0]\n",
    "    obj_name = split_path[-1]\n",
    "    \n",
    "    split_path.pop(0)\n",
    "    s3_path = (\"/\").join(split_path)\n",
    "\n",
    "    \n",
    "    s3_client.download_file(s3_bucket, s3_path, obj_name)\n",
    "    if verbose:\n",
    "        print(\"Downloaded image from {} to {}\".format(s3_bucket + \"/\" + s3_path \\\n",
    "              , download_path + '/' + obj_name))\n",
    "    if show:\n",
    "        img_path = download_path + '/' + obj_name\n",
    "        img = cv2.imread(img_path, cv2.IMREAD_UNCHANGED)\n",
    "        plt.imshow(img)"
   ]
  },
  {
   "cell_type": "code",
   "execution_count": 15,
   "metadata": {},
   "outputs": [
    {
     "data": {
      "image/png": "[encoded data removed]",
      "text/plain": [
       "<Figure size 432x288 with 1 Axes>"
      ]
     },
     "metadata": {
      "needs_background": "light"
     },
     "output_type": "display_data"
    }
   ],
   "source": [
    "download_image(so_by_season, \"DV0262\", \"SS 2019\", \"Front Side Lateral Extra View\", \"Photography\")"
   ]
  },
  {
   "cell_type": "code",
   "execution_count": 16,
   "metadata": {},
   "outputs": [
    {
     "name": "stderr",
     "output_type": "stream",
     "text": [
      "/home/kovuruda/miniconda3/envs/py_env/lib/python3.7/site-packages/pyarrow/__init__.py:157: UserWarning: pyarrow.open_stream is deprecated, please use pyarrow.ipc.open_stream\n",
      "  warnings.warn(\"pyarrow.open_stream is deprecated, please use \"\n"
     ]
    }
   ],
   "source": [
    "views = so_by_season.select('productview').distinct().toPandas()['productview'].tolist()"
   ]
  },
  {
   "cell_type": "code",
   "execution_count": 17,
   "metadata": {},
   "outputs": [],
   "source": [
    "categories = so_by_season.select('assetcategory').distinct().toPandas()['assetcategory'].tolist()"
   ]
  },
  {
   "cell_type": "code",
   "execution_count": 20,
   "metadata": {},
   "outputs": [
    {
     "data": {
      "text/html": [
       "<div style='white-space: pre; font-family: menlo, monospace; line-height: 1.35em; font-size:13px'>+-----------------------------+--------------+------------------------+-------------+-----------+-----------------------+\n",
       "|productview_assetcategory    |3D - Rendering|3D - Rendering Retouched|Design Sketch|Photography|Photography - eCommerce|\n",
       "+-----------------------------+--------------+------------------------+-------------+-----------+-----------------------+\n",
       "|Side Lateral Left View       |24990         |0                       |28612        |3632       |0                      |\n",
       "|Side Lateral View            |24991         |84                      |0            |51159      |301                    |\n",
       "|Front Side Lateral Extra View|0             |0                       |0            |11         |0                      |\n",
       "|Side Lateral Center View     |0             |0                       |0            |19201      |151                    |\n",
       "|Side Lateral Center Open View|0             |0                       |0            |2058       |6                      |\n",
       "|Front Side Lateral View      |0             |42                      |0            |4875       |196                    |\n",
       "|Left Side Lateral View       |0             |1835                    |0            |8173       |332                    |\n",
       "+-----------------------------+--------------+------------------------+-------------+-----------+-----------------------+\n",
       "\n",
       "</div>"
      ],
      "text/plain": [
       "<IPython.core.display.HTML object>"
      ]
     },
     "metadata": {},
     "output_type": "display_data"
    }
   ],
   "source": [
    "table_display(so_by_season.crosstab('productview', 'assetcategory'))"
   ]
  },
  {
   "cell_type": "code",
   "execution_count": 20,
   "metadata": {},
   "outputs": [
    {
     "name": "stdout",
     "output_type": "stream",
     "text": [
      "The autoreload extension is already loaded. To reload it, use:\n",
      "  %reload_ext autoreload\n"
     ]
    }
   ],
   "source": [
    "%load_ext autoreload\n",
    "%autoreload 2"
   ]
  },
  {
   "cell_type": "code",
   "execution_count": 21,
   "metadata": {},
   "outputs": [],
   "source": [
    "from preprocess import *"
   ]
  },
  {
   "cell_type": "code",
   "execution_count": 22,
   "metadata": {},
   "outputs": [
    {
     "data": {
      "text/plain": [
       "numpy.ndarray"
      ]
     },
     "execution_count": 22,
     "metadata": {},
     "output_type": "execute_result"
    },
    {
     "data": {
      "image/png": "[encoded data removed]",
      "text/plain": [
       "<Figure size 432x288 with 1 Axes>"
      ]
     },
     "metadata": {
      "needs_background": "light"
     },
     "output_type": "display_data"
    }
   ],
   "source": [
    "type(pre_process(\"./DV0262_2ff8bb6808c64dd7a266aa5300e013a8.tif\"))"
   ]
  },
  {
   "cell_type": "code",
   "execution_count": 65,
   "metadata": {},
   "outputs": [],
   "source": [
    "def get_train_test_seasons(so_df,val_season = \"SS 2020\"):\n",
    "    def seas_key(x):\n",
    "        seas, year = x.split()\n",
    "        return -int(year), seas != \"SS\"\n",
    "    \n",
    "    sorted_seasons = so_df.select('Season') \\\n",
    "                   .distinct() \\\n",
    "                   .rdd.map(lambda r:r[0]) \\\n",
    "                   .collect()\n",
    "    \n",
    "    sorted_seasons.sort(key = seas_key, reverse=True)\n",
    "    \n",
    "    return(sorted_seasons)"
   ]
  },
  {
   "cell_type": "code",
   "execution_count": 21,
   "metadata": {},
   "outputs": [],
   "source": [
    "### create index file indicating the folder structure based on grouping specified\n",
    "def index_from_data(so_df, categories = None, views = None, validation_season = \"SS 2019\"):\n",
    "    import pyspark.sql.functions as f\n",
    "    from operator import add\n",
    "    from functools import reduce\n",
    "    from pyspark.sql.functions import col, create_map, lit\n",
    "    from itertools import chain\n",
    "    from pyspark.sql import Window\n",
    "    \n",
    "    def seas_key(x):\n",
    "        seas, year = x.split()\n",
    "        return -int(year), seas != \"SS\"\n",
    "    \n",
    "    sorted_seasons = so_df.select('Season') \\\n",
    "                          .distinct() \\\n",
    "                          .rdd.map(lambda r:r[0]) \\\n",
    "                          .collect()\n",
    "    \n",
    "    sorted_seasons.sort(key = seas_key, reverse=True)\n",
    "\n",
    "    sorted_seasons = dict(zip(sorted_seasons, range(len(sorted_seasons))))\n",
    "    print(sorted_seasons)\n",
    "    \n",
    "    if categories is None:\n",
    "        categories = ['3D - Rendering', \"3D - Rendering Retouched\",\\\n",
    "                      \"Photography\", \"Photography - eCommerce\"]\n",
    "    if views is None:\n",
    "        views = [\"Side Lateral View\", \"Side Lateral Left View\", \"Side Lateral Center View\",\\\n",
    "                 \"Left Side Lateral View\", \"Side Lateral Center Open View\"\\\n",
    "                 \"Front Side Lateral View\", \"Front Side Lateral Extra View\"]\n",
    "    \n",
    "    views = dict(zip(views, range(len(views))))\n",
    "    categories = dict(zip(categories, range(len(categories))))\n",
    "    \n",
    "    ## generate mappers and apply to columns\n",
    "    season_map = create_map([lit(x) for x in chain(*sorted_seasons.items())])\n",
    "    \n",
    "    view_map = create_map([lit(x) for x in chain(*views.items())])\n",
    "    \n",
    "    category_map = create_map([lit(x) for x in chain(*categories.items())])\n",
    "    \n",
    "    ### get priority image i.e. dataset converted to one row per article\n",
    "    w = Window.partitionBy([col(x) for x in ['Article_Number']])\n",
    "\n",
    "    so_df = so_df.withColumn(\"season_num\", season_map.getItem(so_df.Season))\\\n",
    "                  .withColumn(\"view_score\", view_map.getItem(so_df.productview))\\\n",
    "                  .withColumn(\"category_score\", category_map.getItem(so_df.assetcategory))\\\n",
    "                  .withColumn('cumulative_score',\\\n",
    "                              reduce(add,[F.col(x) for x in ['view_score', 'category_score']]))\\\n",
    "                  .withColumn('min_score',\\\n",
    "                              f.min('cumulative_score').over(w))\\\n",
    "                  .where(f.col('cumulative_score') == f.col('min_score'))\\\n",
    "                  .drop('min_score')\\\n",
    "                  .withColumn('view_min', f.min('view_score').over(w))\\\n",
    "                  .where(f.col('view_score') == f.col('view_min'))\\\n",
    "                  .drop('view_min')\\\n",
    "                  .withColumn('max_season', f.max('season_num').over(w))\\\n",
    "                  .where(f.col('season_num') == f.col('max_season'))\\\n",
    "                  .drop('max_season')\\\n",
    "                  .dropDuplicates([\"Article_Number\"])\n",
    "\n",
    "    valid_num = sorted_seasons[validation_season]\n",
    "    ### clean nulls\n",
    "    so_df = so_df.filter((so_df.view_score.isNotNull()) &\\\n",
    "                         (so_df.category_score.isNotNull()))\\\n",
    "                 .filter((so_df.destination_path_key.isNotNull()))\n",
    "                 #.filter((so_df.BU.isNotNull()))\n",
    "    \n",
    "    ## demarcate and separate train-test parts of the index\n",
    "    so_df = so_df.filter(F.col('season_num') <= valid_num)\\\n",
    "                 .withColumn('assignment',F.when(F.col(\"season_num\") == valid_num, 'Test')\\\n",
    "                             .otherwise('Train'))\n",
    "    \n",
    "    return(so_df)"
   ]
  },
  {
   "cell_type": "code",
   "execution_count": 22,
   "metadata": {},
   "outputs": [
    {
     "name": "stdout",
     "output_type": "stream",
     "text": [
      "{'FW 2016': 0, 'FW 2017': 1, 'SS 2017': 2, 'FW 2018': 3, 'SS 2018': 4, 'FW 2019': 5, 'SS 2019': 6, 'SS 2020': 7}\n"
     ]
    }
   ],
   "source": [
    "so_by_season = index_from_data(so_by_season)"
   ]
  },
  {
   "cell_type": "code",
   "execution_count": 23,
   "metadata": {},
   "outputs": [
    {
     "data": {
      "text/html": [
       "<div style='white-space: pre; font-family: menlo, monospace; line-height: 1.35em; font-size:13px'>+-----------------+-------+-------+-------+-------+-------+-------+-------+\n",
       "|assignment_Season|FW 2016|FW 2017|FW 2018|FW 2019|SS 2017|SS 2018|SS 2019|\n",
       "+-----------------+-------+-------+-------+-------+-------+-------+-------+\n",
       "|Train            |3190   |3113   |2599   |2847   |3506   |3204   |0      |\n",
       "|Test             |0      |0      |0      |0      |0      |0      |3134   |\n",
       "+-----------------+-------+-------+-------+-------+-------+-------+-------+\n",
       "\n",
       "</div>"
      ],
      "text/plain": [
       "<IPython.core.display.HTML object>"
      ]
     },
     "metadata": {},
     "output_type": "display_data"
    }
   ],
   "source": [
    "table_display(so_by_season.crosstab('assignment', 'Season'))"
   ]
  },
  {
   "cell_type": "code",
   "execution_count": 24,
   "metadata": {},
   "outputs": [
    {
     "name": "stderr",
     "output_type": "stream",
     "text": [
      "/home/kovuruda/miniconda3/envs/py_env/lib/python3.7/site-packages/pyarrow/__init__.py:157: UserWarning: pyarrow.open_stream is deprecated, please use pyarrow.ipc.open_stream\n",
      "  warnings.warn(\"pyarrow.open_stream is deprecated, please use \"\n"
     ]
    }
   ],
   "source": [
    "## doing this in Pandas to simplify things -- to be ported to pyspark\n",
    "## this should be seen as a failure to do everything with pyspark -- schade schade\n",
    "so_by_season = so_by_season.toPandas()\n",
    "\n",
    "def generate_labels(so_df, grouping = \"Product_Group\", value = 'SO_Quantity', validation_season = 'SS 2019', label = 'label'):\n",
    "    \n",
    "    def quantile_bins(value):\n",
    "        bins = 5 \n",
    "        labels = None\n",
    "        if labels is None:\n",
    "            labels = [\"Bin_\" + str(val) for val in list(range(bins))]\n",
    "        bin_labels = pd.qcut(pd.to_numeric(value), bins, labels=labels)\n",
    "        return(bin_labels)\n",
    "    \n",
    "    so_df[label] = so_df.groupby(grouping, group_keys=False)[value].transform(quantile_bins)\n",
    "    \n",
    "    \n",
    "    return(so_df)"
   ]
  },
  {
   "cell_type": "code",
   "execution_count": 25,
   "metadata": {},
   "outputs": [],
   "source": [
    "train_test_index = generate_labels(so_by_season)"
   ]
  },
  {
   "cell_type": "code",
   "execution_count": 31,
   "metadata": {},
   "outputs": [
    {
     "data": {
      "text/html": [
       "<div>\n",
       "<style scoped>\n",
       "    .dataframe tbody tr th:only-of-type {\n",
       "        vertical-align: middle;\n",
       "    }\n",
       "\n",
       "    .dataframe tbody tr th {\n",
       "        vertical-align: top;\n",
       "    }\n",
       "\n",
       "    .dataframe thead th {\n",
       "        text-align: right;\n",
       "    }\n",
       "</style>\n",
       "<table border=\"1\" class=\"dataframe\">\n",
       "  <thead>\n",
       "    <tr style=\"text-align: right;\">\n",
       "      <th></th>\n",
       "      <th>Article_Number</th>\n",
       "      <th>Season</th>\n",
       "      <th>SO_Quantity</th>\n",
       "      <th>id</th>\n",
       "      <th>articlenumber</th>\n",
       "      <th>articlename</th>\n",
       "      <th>modelname</th>\n",
       "      <th>assetcategory</th>\n",
       "      <th>productview</th>\n",
       "      <th>destination_path_key</th>\n",
       "      <th>group_article</th>\n",
       "      <th>BU</th>\n",
       "      <th>Product_Group</th>\n",
       "      <th>season_num</th>\n",
       "      <th>view_score</th>\n",
       "      <th>category_score</th>\n",
       "      <th>cumulative_score</th>\n",
       "      <th>assignment</th>\n",
       "      <th>label</th>\n",
       "    </tr>\n",
       "  </thead>\n",
       "  <tbody>\n",
       "    <tr>\n",
       "      <th>0</th>\n",
       "      <td>AF4543</td>\n",
       "      <td>FW 2016</td>\n",
       "      <td>12448</td>\n",
       "      <td>8de207e56a5644d39406a45a0175a337</td>\n",
       "      <td>AF4543</td>\n",
       "      <td>lk sport 2 k</td>\n",
       "      <td>lk sport 2 k</td>\n",
       "      <td>3D - Rendering</td>\n",
       "      <td>Side Lateral View</td>\n",
       "      <td>das-prod-inbound-mvn-eu-west-1-e706/prod/images/AF4543_8de207e56a5644d39406a45a0175a337.tif</td>\n",
       "      <td>AF4543</td>\n",
       "      <td>BU YOUNG ATHLETES</td>\n",
       "      <td>SHOES</td>\n",
       "      <td>0</td>\n",
       "      <td>0</td>\n",
       "      <td>0</td>\n",
       "      <td>0</td>\n",
       "      <td>Train</td>\n",
       "      <td>Bin_4</td>\n",
       "    </tr>\n",
       "    <tr>\n",
       "      <th>1</th>\n",
       "      <td>AH2545</td>\n",
       "      <td>FW 2018</td>\n",
       "      <td>860</td>\n",
       "      <td>75fae37661ce433795faa7990065f623</td>\n",
       "      <td>AH2545</td>\n",
       "      <td>RapidaFlex EL K</td>\n",
       "      <td>RapidaFlex EL K</td>\n",
       "      <td>3D - Rendering</td>\n",
       "      <td>Side Lateral View</td>\n",
       "      <td>das-prod-inbound-mvn-eu-west-1-e706/prod/images/AH2545_75fae37661ce433795faa7990065f623.tif</td>\n",
       "      <td>AH2545</td>\n",
       "      <td>BU YOUNG ATHLETES</td>\n",
       "      <td>SHOES</td>\n",
       "      <td>3</td>\n",
       "      <td>0</td>\n",
       "      <td>0</td>\n",
       "      <td>0</td>\n",
       "      <td>Train</td>\n",
       "      <td>Bin_1</td>\n",
       "    </tr>\n",
       "    <tr>\n",
       "      <th>2</th>\n",
       "      <td>AQ1109</td>\n",
       "      <td>FW 2018</td>\n",
       "      <td>1461</td>\n",
       "      <td>dcba6719393f46809e7aa7af000e669f</td>\n",
       "      <td>AQ1109</td>\n",
       "      <td>F/2 TR PK</td>\n",
       "      <td>F/2 TR PK</td>\n",
       "      <td>3D - Rendering</td>\n",
       "      <td>Side Lateral View</td>\n",
       "      <td>das-prod-inbound-mvn-eu-west-1-e706/prod/images/AQ1109_dcba6719393f46809e7aa7af000e669f.tif</td>\n",
       "      <td>AQ1109</td>\n",
       "      <td>BU ORIGINALS FTW</td>\n",
       "      <td>SHOES</td>\n",
       "      <td>3</td>\n",
       "      <td>0</td>\n",
       "      <td>0</td>\n",
       "      <td>0</td>\n",
       "      <td>Train</td>\n",
       "      <td>Bin_1</td>\n",
       "    </tr>\n",
       "    <tr>\n",
       "      <th>3</th>\n",
       "      <td>AQ1675</td>\n",
       "      <td>FW 2017</td>\n",
       "      <td>9473</td>\n",
       "      <td>78ec42cc9ff04453b93ca78200f72ead</td>\n",
       "      <td>AQ1675</td>\n",
       "      <td>CF RACER TR K</td>\n",
       "      <td>CF RACER TR K</td>\n",
       "      <td>Photography</td>\n",
       "      <td>Side Lateral View</td>\n",
       "      <td>das-prod-inbound-mvn-eu-west-1-e706/prod/images/AQ1675_78ec42cc9ff04453b93ca78200f72ead.tif</td>\n",
       "      <td>AQ1675</td>\n",
       "      <td>BU CORE FTW</td>\n",
       "      <td>SHOES</td>\n",
       "      <td>1</td>\n",
       "      <td>0</td>\n",
       "      <td>2</td>\n",
       "      <td>2</td>\n",
       "      <td>Train</td>\n",
       "      <td>Bin_4</td>\n",
       "    </tr>\n",
       "    <tr>\n",
       "      <th>4</th>\n",
       "      <td>AQ3019</td>\n",
       "      <td>FW 2016</td>\n",
       "      <td>1234</td>\n",
       "      <td>155375c42adf45d5ab69a48400a4fcd8</td>\n",
       "      <td>AQ3019</td>\n",
       "      <td>Volley Team 4</td>\n",
       "      <td>Volley Team 4</td>\n",
       "      <td>3D - Rendering</td>\n",
       "      <td>Side Lateral View</td>\n",
       "      <td>das-prod-inbound-mvn-eu-west-1-e706/prod/images/AQ3019_155375c42adf45d5ab69a48400a4fcd8.tif</td>\n",
       "      <td>AQ3019</td>\n",
       "      <td>BU SPECIALIST SPORT</td>\n",
       "      <td>SHOES</td>\n",
       "      <td>0</td>\n",
       "      <td>0</td>\n",
       "      <td>0</td>\n",
       "      <td>0</td>\n",
       "      <td>Train</td>\n",
       "      <td>Bin_1</td>\n",
       "    </tr>\n",
       "  </tbody>\n",
       "</table>\n",
       "</div>"
      ],
      "text/plain": [
       "  Article_Number   Season SO_Quantity                                id  \\\n",
       "0         AF4543  FW 2016       12448  8de207e56a5644d39406a45a0175a337   \n",
       "1         AH2545  FW 2018         860  75fae37661ce433795faa7990065f623   \n",
       "2         AQ1109  FW 2018        1461  dcba6719393f46809e7aa7af000e669f   \n",
       "3         AQ1675  FW 2017        9473  78ec42cc9ff04453b93ca78200f72ead   \n",
       "4         AQ3019  FW 2016        1234  155375c42adf45d5ab69a48400a4fcd8   \n",
       "\n",
       "  articlenumber      articlename        modelname   assetcategory  \\\n",
       "0        AF4543     lk sport 2 k     lk sport 2 k  3D - Rendering   \n",
       "1        AH2545  RapidaFlex EL K  RapidaFlex EL K  3D - Rendering   \n",
       "2        AQ1109        F/2 TR PK        F/2 TR PK  3D - Rendering   \n",
       "3        AQ1675    CF RACER TR K    CF RACER TR K     Photography   \n",
       "4        AQ3019    Volley Team 4    Volley Team 4  3D - Rendering   \n",
       "\n",
       "         productview  \\\n",
       "0  Side Lateral View   \n",
       "1  Side Lateral View   \n",
       "2  Side Lateral View   \n",
       "3  Side Lateral View   \n",
       "4  Side Lateral View   \n",
       "\n",
       "                                                                          destination_path_key  \\\n",
       "0  das-prod-inbound-mvn-eu-west-1-e706/prod/images/AF4543_8de207e56a5644d39406a45a0175a337.tif   \n",
       "1  das-prod-inbound-mvn-eu-west-1-e706/prod/images/AH2545_75fae37661ce433795faa7990065f623.tif   \n",
       "2  das-prod-inbound-mvn-eu-west-1-e706/prod/images/AQ1109_dcba6719393f46809e7aa7af000e669f.tif   \n",
       "3  das-prod-inbound-mvn-eu-west-1-e706/prod/images/AQ1675_78ec42cc9ff04453b93ca78200f72ead.tif   \n",
       "4  das-prod-inbound-mvn-eu-west-1-e706/prod/images/AQ3019_155375c42adf45d5ab69a48400a4fcd8.tif   \n",
       "\n",
       "  group_article                   BU Product_Group  season_num  view_score  \\\n",
       "0        AF4543    BU YOUNG ATHLETES         SHOES           0           0   \n",
       "1        AH2545    BU YOUNG ATHLETES         SHOES           3           0   \n",
       "2        AQ1109     BU ORIGINALS FTW         SHOES           3           0   \n",
       "3        AQ1675          BU CORE FTW         SHOES           1           0   \n",
       "4        AQ3019  BU SPECIALIST SPORT         SHOES           0           0   \n",
       "\n",
       "   category_score  cumulative_score assignment  label  \n",
       "0               0                 0      Train  Bin_4  \n",
       "1               0                 0      Train  Bin_1  \n",
       "2               0                 0      Train  Bin_1  \n",
       "3               2                 2      Train  Bin_4  \n",
       "4               0                 0      Train  Bin_1  "
      ]
     },
     "execution_count": 31,
     "metadata": {},
     "output_type": "execute_result"
    }
   ],
   "source": [
    "train_test_index.head()"
   ]
  },
  {
   "cell_type": "code",
   "execution_count": 27,
   "metadata": {},
   "outputs": [],
   "source": [
    "run_tag = \"ss_2019\"\n",
    "train_test_index.to_csv(\"../index/train_test_index_{}.csv\".format(run_tag), index=False, index_label=False)"
   ]
  },
  {
   "cell_type": "code",
   "execution_count": 52,
   "metadata": {},
   "outputs": [],
   "source": []
  },
  {
   "cell_type": "code",
   "execution_count": 50,
   "metadata": {},
   "outputs": [],
   "source": []
  },
  {
   "cell_type": "code",
   "execution_count": 3,
   "metadata": {},
   "outputs": [],
   "source": [
    "import os\n",
    "import boto3\n",
    "import time"
   ]
  },
  {
   "cell_type": "code",
   "execution_count": null,
   "metadata": {},
   "outputs": [],
   "source": [
    "SOURCE_DIR='../source/similarity'\n",
    "WORKING_DIR = os.getcwd()\n",
    "\n",
    "SAGEMAKER_BUCKET =  \"sagemaker-eu-west-1-534248273601\" #sagemaker_session.default_bucket()\n",
    "sagemaker_session._default_bucket = SAGEMAKER_BUCKET\n",
    "\n",
    "SAGEMAKER_BUCKET_PREFIX = '/kovuruda/sagemaker/shop-by-style/data'\n",
    "\n",
    "role = sagemaker.get_execution_role()\n",
    "DATA_S3URI = \"s3://\"+SAGEMAKER_BUCKET+SAGEMAKER_BUCKET_PREFIX\n",
    "AWS_REGION = boto3.session.Session().region_name\n",
    "\n",
    "print(\"Your region: \"+AWS_REGION)\n",
    "print(\"Your SageMaker bucket: \"+SAGEMAKER_BUCKET)\n",
    "print(\"Your current working directory: \"+WORKING_DIR)\n",
    "print(\"Your training data location: \" + DATA_S3URI)"
   ]
  },
  {
   "cell_type": "code",
   "execution_count": null,
   "metadata": {},
   "outputs": [],
   "source": [
    "MODELS_S3URI = \"s3://\"+os.path.join(SAGEMAKER_BUCKET,'kovuruda','sagemaker','shop-by-style','model','output')\n",
    "SOURCE_S3URI = \"s3://\"+os.path.join(SAGEMAKER_BUCKET,'kovuruda','sagemaker','shop-by-style','model','source')\n",
    "OUTPUT_DIR = \"s3://\" + SAGEMAKER_BUCKET + SAGEMAKER_BUCKET_PREFIX + \"/output\"\n",
    "print(OUTPUT_DIR)\n",
    "MODEL_VERSION = 6"
   ]
  },
  {
   "cell_type": "code",
   "execution_count": null,
   "metadata": {},
   "outputs": [],
   "source": []
  },
  {
   "cell_type": "code",
   "execution_count": null,
   "metadata": {},
   "outputs": [],
   "source": [
    "DATA_S3URI = \"s3://sagemaker-eu-west-1-534248273601/kovuruda/sagemaker/DEMO-pytorch-siamese-network/batch/in/\""
   ]
  },
  {
   "cell_type": "code",
   "execution_count": 1,
   "metadata": {},
   "outputs": [],
   "source": [
    "import torch\n",
    "import torch.nn as nn\n",
    "import torchvision.models as models\n",
    "from torch.autograd import Variable\n",
    "from torchvision import models"
   ]
  },
  {
   "cell_type": "code",
   "execution_count": null,
   "metadata": {},
   "outputs": [],
   "source": [
    "model = models.resnet50(pretrained = True)\n",
    "\n",
    "torch.save(model, \"resnet50.pth\")\n",
    "\n",
    "os.system('aws s3 cp model.pth --quiet'\n",
    "          .format(MODELS_S3URI))"
   ]
  },
  {
   "cell_type": "code",
   "execution_count": null,
   "metadata": {},
   "outputs": [],
   "source": [
    "resnet152 = models.resnet152(pretrained=True)\n",
    "modules=list(resnet152.children())[:-1]\n",
    "resnet152=nn.Sequential(*modules)\n",
    "for p in resnet152.parameters():\n",
    "    p.requires_grad = False"
   ]
  },
  {
   "cell_type": "code",
   "execution_count": null,
   "metadata": {},
   "outputs": [],
   "source": [
    "img = torch.Tensor(3, 224, 224).normal_() # random image\n",
    "img_var = Variable(img) # assign it to a variable\n",
    "features_var = resnet152(img_var) # get the output from the last hidden layer of the pretrained resnet\n",
    "features = features_var.data # get the tensor out of the variable"
   ]
  },
  {
   "cell_type": "code",
   "execution_count": null,
   "metadata": {},
   "outputs": [],
   "source": []
  },
  {
   "cell_type": "code",
   "execution_count": 42,
   "metadata": {},
   "outputs": [],
   "source": []
  },
  {
   "cell_type": "code",
   "execution_count": null,
   "metadata": {},
   "outputs": [],
   "source": []
  },
  {
   "cell_type": "code",
   "execution_count": null,
   "metadata": {},
   "outputs": [],
   "source": []
  },
  {
   "cell_type": "code",
   "execution_count": null,
   "metadata": {},
   "outputs": [],
   "source": []
  }
 ],
 "metadata": {
  "kernelspec": {
   "display_name": "Python 3",
   "language": "python",
   "name": "python3"
  },
  "language_info": {
   "codemirror_mode": {
    "name": "ipython",
    "version": 3
   },
   "file_extension": ".py",
   "mimetype": "text/x-python",
   "name": "python",
   "nbconvert_exporter": "python",
   "pygments_lexer": "ipython3",
   "version": "3.7.7"
  }
 },
 "nbformat": 4,
 "nbformat_minor": 4
}
